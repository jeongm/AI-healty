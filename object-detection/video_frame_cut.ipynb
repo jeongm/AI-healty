{
 "cells": [
  {
   "cell_type": "code",
   "execution_count": 2,
   "id": "0d86f306",
   "metadata": {},
   "outputs": [],
   "source": [
    "import cv2\n",
    "\n",
    "vidcap = cv2.VideoCapture('tree.mp4')\n",
    "\n",
    "count = 0\n",
    "\n",
    "while (vidcap.isOpened()):\n",
    "    ret, image = vidcap.read()\n",
    "\n",
    "    if (int(vidcap.get(1)) % 20 == 0):\n",
    "        cv2.imwrite(\"test/tree%d.jpg\" % count, image)\n",
    "        print('tree%d.jpg' % count)\n",
    "        count += 1\n",
    "\n",
    "vidcap.release()"
   ]
  },
  {
   "cell_type": "code",
   "execution_count": null,
   "id": "d4a3b2ea",
   "metadata": {},
   "outputs": [],
   "source": []
  }
 ],
 "metadata": {
  "kernelspec": {
   "display_name": "Python 3",
   "language": "python",
   "name": "python3"
  },
  "language_info": {
   "codemirror_mode": {
    "name": "ipython",
    "version": 3
   },
   "file_extension": ".py",
   "mimetype": "text/x-python",
   "name": "python",
   "nbconvert_exporter": "python",
   "pygments_lexer": "ipython3",
   "version": "3.8.8"
  }
 },
 "nbformat": 4,
 "nbformat_minor": 5
}
