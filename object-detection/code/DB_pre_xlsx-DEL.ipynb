{
 "cells": [
  {
   "cell_type": "code",
   "execution_count": 1,
   "id": "7966e614",
   "metadata": {},
   "outputs": [],
   "source": [
    "import pandas as pd\n",
    "import xlrd"
   ]
  },
  {
   "cell_type": "code",
   "execution_count": 2,
   "id": "0a2522e0",
   "metadata": {
    "scrolled": true
   },
   "outputs": [],
   "source": [
    "# 데이터 불러오기\n",
    "path=''\n",
    "df_origin = pd.read_excel(\"../건강관리를 위한 음식 이미지/Info Table/통합 식품영양성분DB/통합 식품영양성분DB - v1.xlsx\")"
   ]
  },
  {
   "cell_type": "code",
   "execution_count": 3,
   "id": "4e4e8d63",
   "metadata": {},
   "outputs": [],
   "source": [
    "df = df_origin"
   ]
  },
  {
   "cell_type": "code",
   "execution_count": 4,
   "id": "225a0d6d",
   "metadata": {},
   "outputs": [
    {
     "data": {
      "text/plain": [
       "Index(['NO', 'DB군', '식품명', '식품대분류', '식품상세분류', '1회제공량', '내용량_단위', '총내용량(g)',\n",
       "       '총내용량(mL)', '에너지(㎉)', '단백질(g)', '지방(g)', '탄수화물(g)', '총 식이섬유(g)',\n",
       "       '콜레스테롤(㎎)'],\n",
       "      dtype='object')"
      ]
     },
     "execution_count": 4,
     "metadata": {},
     "output_type": "execute_result"
    }
   ],
   "source": [
    "df.columns"
   ]
  },
  {
   "cell_type": "code",
   "execution_count": 5,
   "id": "f67682e3",
   "metadata": {},
   "outputs": [
    {
     "name": "stdout",
     "output_type": "stream",
     "text": [
      "<class 'pandas.core.frame.DataFrame'>\n",
      "RangeIndex: 52940 entries, 0 to 52939\n",
      "Data columns (total 15 columns):\n",
      " #   Column     Non-Null Count  Dtype  \n",
      "---  ------     --------------  -----  \n",
      " 0   NO         52940 non-null  int64  \n",
      " 1   DB군        52940 non-null  object \n",
      " 2   식품명        52940 non-null  object \n",
      " 3   식품대분류      52940 non-null  object \n",
      " 4   식품상세분류     52940 non-null  object \n",
      " 5   1회제공량      52940 non-null  float64\n",
      " 6   내용량_단위     51912 non-null  object \n",
      " 7   총내용량(g)    52940 non-null  object \n",
      " 8   총내용량(mL)   52940 non-null  object \n",
      " 9   에너지(㎉)     52940 non-null  object \n",
      " 10  단백질(g)     52940 non-null  object \n",
      " 11  지방(g)      52940 non-null  object \n",
      " 12  탄수화물(g)    52940 non-null  object \n",
      " 13  총 식이섬유(g)  52940 non-null  object \n",
      " 14  콜레스테롤(㎎)   52940 non-null  object \n",
      "dtypes: float64(1), int64(1), object(13)\n",
      "memory usage: 6.1+ MB\n"
     ]
    }
   ],
   "source": [
    "df.info()"
   ]
  },
  {
   "cell_type": "code",
   "execution_count": 6,
   "id": "f782e30b",
   "metadata": {},
   "outputs": [
    {
     "data": {
      "text/plain": [
       "(52940, 15)"
      ]
     },
     "execution_count": 6,
     "metadata": {},
     "output_type": "execute_result"
    }
   ],
   "source": [
    "# (행,열) 크기 확인\n",
    "df.shape "
   ]
  },
  {
   "cell_type": "code",
   "execution_count": 7,
   "id": "06539b8d",
   "metadata": {},
   "outputs": [],
   "source": [
    "# 인덱스 지정 행 삭제\n",
    "#df = df.drop([0,1],axis=0)"
   ]
  },
  {
   "cell_type": "code",
   "execution_count": 8,
   "id": "95df50ea",
   "metadata": {},
   "outputs": [],
   "source": [
    "# 첫 번째 행을 column으로 지정\n",
    "#df = df.rename(columns=df.iloc[0])\n",
    "#df = df.drop(df.index[0])"
   ]
  },
  {
   "cell_type": "code",
   "execution_count": 14,
   "id": "ceadf67f",
   "metadata": {},
   "outputs": [
    {
     "data": {
      "text/html": [
       "<div>\n",
       "<style scoped>\n",
       "    .dataframe tbody tr th:only-of-type {\n",
       "        vertical-align: middle;\n",
       "    }\n",
       "\n",
       "    .dataframe tbody tr th {\n",
       "        vertical-align: top;\n",
       "    }\n",
       "\n",
       "    .dataframe thead th {\n",
       "        text-align: right;\n",
       "    }\n",
       "</style>\n",
       "<table border=\"1\" class=\"dataframe\">\n",
       "  <thead>\n",
       "    <tr style=\"text-align: right;\">\n",
       "      <th></th>\n",
       "      <th>NO</th>\n",
       "      <th>DB군</th>\n",
       "      <th>식품명</th>\n",
       "      <th>식품대분류</th>\n",
       "      <th>식품상세분류</th>\n",
       "      <th>1회제공량</th>\n",
       "      <th>내용량_단위</th>\n",
       "      <th>총내용량(g)</th>\n",
       "      <th>총내용량(mL)</th>\n",
       "      <th>에너지(㎉)</th>\n",
       "      <th>단백질(g)</th>\n",
       "      <th>지방(g)</th>\n",
       "      <th>탄수화물(g)</th>\n",
       "      <th>총 식이섬유(g)</th>\n",
       "      <th>콜레스테롤(㎎)</th>\n",
       "    </tr>\n",
       "  </thead>\n",
       "  <tbody>\n",
       "    <tr>\n",
       "      <th>0</th>\n",
       "      <td>1</td>\n",
       "      <td>음식</td>\n",
       "      <td>꿩불고기</td>\n",
       "      <td>구이류</td>\n",
       "      <td>육류구이</td>\n",
       "      <td>500.0</td>\n",
       "      <td>g</td>\n",
       "      <td>-</td>\n",
       "      <td>-</td>\n",
       "      <td>368.8</td>\n",
       "      <td>33.5</td>\n",
       "      <td>8.5</td>\n",
       "      <td>39.7</td>\n",
       "      <td>9.8</td>\n",
       "      <td>106.18</td>\n",
       "    </tr>\n",
       "    <tr>\n",
       "      <th>1</th>\n",
       "      <td>2</td>\n",
       "      <td>음식</td>\n",
       "      <td>닭갈비</td>\n",
       "      <td>구이류</td>\n",
       "      <td>육류구이</td>\n",
       "      <td>400.0</td>\n",
       "      <td>g</td>\n",
       "      <td>-</td>\n",
       "      <td>-</td>\n",
       "      <td>595.61</td>\n",
       "      <td>45.9</td>\n",
       "      <td>25.8</td>\n",
       "      <td>44.9</td>\n",
       "      <td>11.6</td>\n",
       "      <td>193.4</td>\n",
       "    </tr>\n",
       "    <tr>\n",
       "      <th>2</th>\n",
       "      <td>3</td>\n",
       "      <td>음식</td>\n",
       "      <td>닭갈비</td>\n",
       "      <td>구이류</td>\n",
       "      <td>육류구이</td>\n",
       "      <td>300.0</td>\n",
       "      <td>g</td>\n",
       "      <td>-</td>\n",
       "      <td>-</td>\n",
       "      <td>558.47</td>\n",
       "      <td>45.5</td>\n",
       "      <td>31.6</td>\n",
       "      <td>23.1</td>\n",
       "      <td>6.6</td>\n",
       "      <td>217.67</td>\n",
       "    </tr>\n",
       "    <tr>\n",
       "      <th>3</th>\n",
       "      <td>4</td>\n",
       "      <td>음식</td>\n",
       "      <td>닭꼬치</td>\n",
       "      <td>구이류</td>\n",
       "      <td>육류구이</td>\n",
       "      <td>70.0</td>\n",
       "      <td>g</td>\n",
       "      <td>-</td>\n",
       "      <td>-</td>\n",
       "      <td>176.723</td>\n",
       "      <td>11.562</td>\n",
       "      <td>8.565</td>\n",
       "      <td>13.348</td>\n",
       "      <td>2.072</td>\n",
       "      <td>31.444</td>\n",
       "    </tr>\n",
       "    <tr>\n",
       "      <th>4</th>\n",
       "      <td>5</td>\n",
       "      <td>음식</td>\n",
       "      <td>더덕구이</td>\n",
       "      <td>구이류</td>\n",
       "      <td>채소류구이</td>\n",
       "      <td>100.0</td>\n",
       "      <td>g</td>\n",
       "      <td>-</td>\n",
       "      <td>-</td>\n",
       "      <td>184</td>\n",
       "      <td>3.1</td>\n",
       "      <td>5.2</td>\n",
       "      <td>31.1</td>\n",
       "      <td>6.8</td>\n",
       "      <td>0.12</td>\n",
       "    </tr>\n",
       "  </tbody>\n",
       "</table>\n",
       "</div>"
      ],
      "text/plain": [
       "   NO DB군   식품명 식품대분류 식품상세분류  1회제공량 내용량_단위 총내용량(g) 총내용량(mL)   에너지(㎉)  단백질(g)  \\\n",
       "0   1  음식  꿩불고기   구이류   육류구이  500.0      g       -        -    368.8    33.5   \n",
       "1   2  음식   닭갈비   구이류   육류구이  400.0      g       -        -   595.61    45.9   \n",
       "2   3  음식   닭갈비   구이류   육류구이  300.0      g       -        -   558.47    45.5   \n",
       "3   4  음식   닭꼬치   구이류   육류구이   70.0      g       -        -  176.723  11.562   \n",
       "4   5  음식  더덕구이   구이류  채소류구이  100.0      g       -        -      184     3.1   \n",
       "\n",
       "   지방(g) 탄수화물(g) 총 식이섬유(g) 콜레스테롤(㎎)  \n",
       "0    8.5    39.7       9.8   106.18  \n",
       "1   25.8    44.9      11.6    193.4  \n",
       "2   31.6    23.1       6.6   217.67  \n",
       "3  8.565  13.348     2.072   31.444  \n",
       "4    5.2    31.1       6.8     0.12  "
      ]
     },
     "execution_count": 14,
     "metadata": {},
     "output_type": "execute_result"
    }
   ],
   "source": [
    "df.head(5)"
   ]
  },
  {
   "cell_type": "code",
   "execution_count": 7,
   "id": "dc3b87c9",
   "metadata": {},
   "outputs": [
    {
     "data": {
      "text/plain": [
       "Index(['NO', 'DB군', '식품명', '식품대분류', '식품상세분류', '1회제공량', '내용량_단위', '총내용량(g)',\n",
       "       '총내용량(mL)', '에너지(㎉)', '단백질(g)', '지방(g)', '탄수화물(g)', '총 식이섬유(g)',\n",
       "       '콜레스테롤(㎎)'],\n",
       "      dtype='object')"
      ]
     },
     "execution_count": 7,
     "metadata": {},
     "output_type": "execute_result"
    }
   ],
   "source": [
    "df.columns"
   ]
  },
  {
   "cell_type": "code",
   "execution_count": 11,
   "id": "fd888baf",
   "metadata": {},
   "outputs": [],
   "source": [
    "# 열 삭제\n",
    "#df.drop(['발행기관','성분표출처','연도'],axis=1)"
   ]
  },
  {
   "cell_type": "code",
   "execution_count": 12,
   "id": "9d8c3743",
   "metadata": {},
   "outputs": [],
   "source": [
    "# 특정 열 추출\n",
    "#df_class = df[['DB군','식품명','식품대분류','식품상세분류','에너지(㎉)','단백질(g)','지방(g)','탄수화물(g)','총 식이섬유(g)','콜레스테롤(㎎)']]"
   ]
  },
  {
   "cell_type": "code",
   "execution_count": 17,
   "id": "a710e32e",
   "metadata": {
    "scrolled": true
   },
   "outputs": [
    {
     "name": "stdout",
     "output_type": "stream",
     "text": [
      "<class 'pandas.core.frame.DataFrame'>\n",
      "Int64Index: 216 entries, 286 to 6784\n",
      "Data columns (total 15 columns):\n",
      " #   Column     Non-Null Count  Dtype  \n",
      "---  ------     --------------  -----  \n",
      " 0   NO         216 non-null    int64  \n",
      " 1   DB군        216 non-null    object \n",
      " 2   식품명        216 non-null    object \n",
      " 3   식품대분류      216 non-null    object \n",
      " 4   식품상세분류     216 non-null    object \n",
      " 5   1회제공량      216 non-null    float64\n",
      " 6   내용량_단위     216 non-null    object \n",
      " 7   총내용량(g)    216 non-null    object \n",
      " 8   총내용량(mL)   216 non-null    object \n",
      " 9   에너지(㎉)     216 non-null    object \n",
      " 10  단백질(g)     216 non-null    object \n",
      " 11  지방(g)      216 non-null    object \n",
      " 12  탄수화물(g)    216 non-null    object \n",
      " 13  총 식이섬유(g)  216 non-null    object \n",
      " 14  콜레스테롤(㎎)   216 non-null    object \n",
      "dtypes: float64(1), int64(1), object(13)\n",
      "memory usage: 27.0+ KB\n"
     ]
    }
   ],
   "source": [
    "df[df['식품대분류']=='과자류'].info()"
   ]
  },
  {
   "cell_type": "code",
   "execution_count": 9,
   "id": "dd4b8e7f",
   "metadata": {},
   "outputs": [],
   "source": [
    "df_category = df[['식품대분류']]"
   ]
  },
  {
   "cell_type": "code",
   "execution_count": 10,
   "id": "d7eaeaab",
   "metadata": {},
   "outputs": [
    {
     "data": {
      "text/plain": [
       "0            구이류\n",
       "18        국 및 탕류\n",
       "41           볶음류\n",
       "43            기타\n",
       "44           튀김류\n",
       "          ...   \n",
       "30260     탈지농축우유\n",
       "31351    올리고당가공품\n",
       "31457       고춧가루\n",
       "31459      전분가공품\n",
       "51379    유산균첨가우유\n",
       "Name: 식품대분류, Length: 179, dtype: object"
      ]
     },
     "execution_count": 10,
     "metadata": {},
     "output_type": "execute_result"
    }
   ],
   "source": [
    "df_cate = df_category.drop_duplicates(['식품대분류']) # 중복 값 제거\n",
    "df_cate['식품대분류']"
   ]
  },
  {
   "cell_type": "code",
   "execution_count": 8,
   "id": "20cd4c00",
   "metadata": {},
   "outputs": [
    {
     "ename": "NameError",
     "evalue": "name 'df_cate' is not defined",
     "output_type": "error",
     "traceback": [
      "\u001b[1;31m---------------------------------------------------------------------------\u001b[0m",
      "\u001b[1;31mNameError\u001b[0m                                 Traceback (most recent call last)",
      "Input \u001b[1;32mIn [8]\u001b[0m, in \u001b[0;36m<cell line: 1>\u001b[1;34m()\u001b[0m\n\u001b[1;32m----> 1\u001b[0m category \u001b[38;5;241m=\u001b[39m \u001b[43mdf_cate\u001b[49m\u001b[38;5;241m.\u001b[39mvalues\n\u001b[0;32m      2\u001b[0m category \u001b[38;5;241m=\u001b[39m category\u001b[38;5;241m.\u001b[39mtolist()\n\u001b[0;32m      3\u001b[0m \u001b[38;5;28mprint\u001b[39m(category)\n",
      "\u001b[1;31mNameError\u001b[0m: name 'df_cate' is not defined"
     ]
    }
   ],
   "source": [
    "category = df_cate.values\n",
    "category = category.tolist()\n",
    "print(category)\n",
    "print(len(category))\n",
    "\n",
    "\n",
    "filePath = './식품대분류.txt'\n",
    "with open(filePath,'w',encoding='UTF-8') as f:\n",
    "    for name in category:\n",
    "        f.write(name[0]+'\\n')"
   ]
  },
  {
   "cell_type": "code",
   "execution_count": 15,
   "id": "c2aabe0b",
   "metadata": {},
   "outputs": [],
   "source": [
    "df_class = df[['식품명','식품대분류']]"
   ]
  },
  {
   "cell_type": "code",
   "execution_count": 16,
   "id": "8be194d3",
   "metadata": {},
   "outputs": [
    {
     "data": {
      "text/html": [
       "<div>\n",
       "<style scoped>\n",
       "    .dataframe tbody tr th:only-of-type {\n",
       "        vertical-align: middle;\n",
       "    }\n",
       "\n",
       "    .dataframe tbody tr th {\n",
       "        vertical-align: top;\n",
       "    }\n",
       "\n",
       "    .dataframe thead th {\n",
       "        text-align: right;\n",
       "    }\n",
       "</style>\n",
       "<table border=\"1\" class=\"dataframe\">\n",
       "  <thead>\n",
       "    <tr style=\"text-align: right;\">\n",
       "      <th></th>\n",
       "      <th>식품명</th>\n",
       "      <th>식품대분류</th>\n",
       "    </tr>\n",
       "  </thead>\n",
       "  <tbody>\n",
       "    <tr>\n",
       "      <th>0</th>\n",
       "      <td>꿩불고기</td>\n",
       "      <td>구이류</td>\n",
       "    </tr>\n",
       "    <tr>\n",
       "      <th>1</th>\n",
       "      <td>닭갈비</td>\n",
       "      <td>구이류</td>\n",
       "    </tr>\n",
       "    <tr>\n",
       "      <th>2</th>\n",
       "      <td>닭갈비</td>\n",
       "      <td>구이류</td>\n",
       "    </tr>\n",
       "    <tr>\n",
       "      <th>3</th>\n",
       "      <td>닭꼬치</td>\n",
       "      <td>구이류</td>\n",
       "    </tr>\n",
       "    <tr>\n",
       "      <th>4</th>\n",
       "      <td>더덕구이</td>\n",
       "      <td>구이류</td>\n",
       "    </tr>\n",
       "  </tbody>\n",
       "</table>\n",
       "</div>"
      ],
      "text/plain": [
       "    식품명 식품대분류\n",
       "0  꿩불고기   구이류\n",
       "1   닭갈비   구이류\n",
       "2   닭갈비   구이류\n",
       "3   닭꼬치   구이류\n",
       "4  더덕구이   구이류"
      ]
     },
     "execution_count": 16,
     "metadata": {},
     "output_type": "execute_result"
    }
   ],
   "source": [
    "df_class.head()"
   ]
  },
  {
   "cell_type": "code",
   "execution_count": 17,
   "id": "b95e6d60",
   "metadata": {},
   "outputs": [],
   "source": [
    "df_coffee = df_class.loc[(df_class['식품대분류']=='커피')]"
   ]
  },
  {
   "cell_type": "code",
   "execution_count": 18,
   "id": "1568e7d1",
   "metadata": {},
   "outputs": [],
   "source": [
    "coffee = df_coffee['식품명'].to_list()"
   ]
  },
  {
   "cell_type": "code",
   "execution_count": 19,
   "id": "786d8ff6",
   "metadata": {},
   "outputs": [
    {
     "data": {
      "text/plain": [
       "list"
      ]
     },
     "execution_count": 19,
     "metadata": {},
     "output_type": "execute_result"
    }
   ],
   "source": [
    "type(coffee)"
   ]
  },
  {
   "cell_type": "code",
   "execution_count": 52,
   "id": "b2022179",
   "metadata": {},
   "outputs": [],
   "source": [
    "filePath = './커피.txt'\n",
    "with open(filePath,'w',encoding='UTF-8') as f:\n",
    "    for name in coffee:\n",
    "        f.write(name+'\\n')\n"
   ]
  },
  {
   "cell_type": "code",
   "execution_count": null,
   "id": "b615abe2",
   "metadata": {},
   "outputs": [],
   "source": []
  },
  {
   "cell_type": "code",
   "execution_count": 52,
   "id": "c7c034f8",
   "metadata": {},
   "outputs": [],
   "source": [
    "noEx = []\n",
    "\n",
    "for c in category:\n",
    "    df_ex = df_class.loc[(df_class['식품대분류']==c[0])]\n",
    "    ex = df_ex['식품명'].to_list()\n",
    "\n",
    "    filePath = './'+c[0]+'.txt'\n",
    "    try:\n",
    "        with open(filePath,'w',encoding='UTF-8') as f:\n",
    "            for name in ex:\n",
    "                f.write(name+'\\n')\n",
    "    except:\n",
    "        noEx.append(c[0])\n"
   ]
  },
  {
   "cell_type": "code",
   "execution_count": 29,
   "id": "bf3a8531",
   "metadata": {},
   "outputs": [
    {
     "name": "stdout",
     "output_type": "stream",
     "text": [
      "['과/채주스', '과/채음료', '인삼/홍삼음료', '영/유아용 이유식', '과/채가공품', '영/유아용 특수조제식품', '농축과/채즙(또는 과/채분)', '임산/수유부용 식품']\n"
     ]
    }
   ],
   "source": [
    "print(noEx)\n",
    "for n in noEx:\n",
    "    n.replace('/','_')\n",
    "print(noEx)"
   ]
  },
  {
   "cell_type": "code",
   "execution_count": 51,
   "id": "8408d1b5",
   "metadata": {},
   "outputs": [],
   "source": [
    "df_ex = df_class.loc[(df_class['식품대분류']=='임산/수유부용 식품')]\n",
    "ex = df_ex['식품명'].to_list()\n",
    "\n",
    "filePath = './임산_수유부용 식품.txt'\n",
    "with open(filePath,'w',encoding='UTF-8') as f:\n",
    "    for name in ex:\n",
    "        f.write(name+'\\n')"
   ]
  },
  {
   "cell_type": "code",
   "execution_count": null,
   "id": "42bb5671",
   "metadata": {},
   "outputs": [],
   "source": []
  },
  {
   "cell_type": "code",
   "execution_count": 12,
   "id": "70b5f7e8",
   "metadata": {},
   "outputs": [],
   "source": [
    "# 식품명 파일 저장\n",
    "food = df['식품명'].to_list()\n",
    "filePath = './db_food_name.txt'\n",
    "with open(filePath,'w',encoding='UTF-8') as f:\n",
    "    for name in food:\n",
    "        f.write(name+'\\n')"
   ]
  },
  {
   "cell_type": "code",
   "execution_count": null,
   "id": "1ea4363b",
   "metadata": {},
   "outputs": [],
   "source": []
  }
 ],
 "metadata": {
  "kernelspec": {
   "display_name": "Python 3 (ipykernel)",
   "language": "python",
   "name": "python3"
  },
  "language_info": {
   "codemirror_mode": {
    "name": "ipython",
    "version": 3
   },
   "file_extension": ".py",
   "mimetype": "text/x-python",
   "name": "python",
   "nbconvert_exporter": "python",
   "pygments_lexer": "ipython3",
   "version": "3.9.12"
  }
 },
 "nbformat": 4,
 "nbformat_minor": 5
}
