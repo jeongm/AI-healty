{
 "cells": [
  {
   "cell_type": "code",
   "execution_count": 2,
   "id": "ac4106ca",
   "metadata": {},
   "outputs": [
    {
     "name": "stdout",
     "output_type": "stream",
     "text": [
      "Defaulting to user installation because normal site-packages is not writeable\n",
      "Requirement already satisfied: split-folders in c:\\users\\user\\appdata\\roaming\\python\\python39\\site-packages (0.5.1)\n",
      "Requirement already satisfied: tqdm in c:\\programdata\\anaconda3\\lib\\site-packages (4.64.0)\n",
      "Requirement already satisfied: colorama in c:\\programdata\\anaconda3\\lib\\site-packages (from tqdm) (0.4.4)\n"
     ]
    }
   ],
   "source": [
    "!pip install split-folders tqdm"
   ]
  },
  {
   "cell_type": "code",
   "execution_count": 3,
   "id": "9524783b",
   "metadata": {},
   "outputs": [],
   "source": [
    "import os,shutil\n",
    "\n",
    "img_path='C:\\\\Users\\\\user\\\\yolov5\\\\data\\\\health_datasets\\\\train\\\\images\\\\'\n",
    "label_path = 'C:\\\\Users\\\\user\\\\yolov5\\\\data\\\\health_datasets\\\\train\\\\labels\\\\'\n",
    "\n",
    "\n",
    "img_list = os.listdir(img_path) # 이미지 폴더들\n",
    "label_list = os.listdir(label_path)"
   ]
  },
  {
   "cell_type": "code",
   "execution_count": 4,
   "id": "30437fcd",
   "metadata": {},
   "outputs": [
    {
     "name": "stdout",
     "output_type": "stream",
     "text": [
      "161800 40451\n"
     ]
    }
   ],
   "source": [
    "from sklearn.model_selection import train_test_split\n",
    "\n",
    "train_img_list, val_img_list = train_test_split(img_list, test_size=0.2, random_state=2000)\n",
    "\n",
    "print(len(train_img_list), len(val_img_list))"
   ]
  },
  {
   "cell_type": "code",
   "execution_count": 5,
   "id": "1e809d09",
   "metadata": {},
   "outputs": [
    {
     "name": "stdout",
     "output_type": "stream",
     "text": [
      "20225 20226\n"
     ]
    }
   ],
   "source": [
    "test_img_list, val_img_list = train_test_split(val_img_list, test_size=0.5, random_state=2000)\n",
    "print(len(test_img_list), len(val_img_list))"
   ]
  },
  {
   "cell_type": "code",
   "execution_count": 6,
   "id": "8f999d32",
   "metadata": {},
   "outputs": [
    {
     "name": "stdout",
     "output_type": "stream",
     "text": [
      "B120227XX_00769.jpg\n"
     ]
    }
   ],
   "source": [
    "print(val_img_list[0])"
   ]
  },
  {
   "cell_type": "code",
   "execution_count": 7,
   "id": "96823b83",
   "metadata": {},
   "outputs": [],
   "source": [
    "# val 이동\n",
    "move_img = 'C:\\\\Users\\\\user\\\\yolov5\\\\data\\\\health_datasets\\\\val\\\\images\\\\'\n",
    "move_label = 'C:\\\\Users\\\\user\\\\yolov5\\\\data\\\\health_datasets\\\\val\\\\labels\\\\'\n",
    "\n",
    "for file in img_list:\n",
    "    if file in val_img_list:\n",
    "        shutil.move(img_path+'/'+file, move_img) \n",
    "        label_file = file[:-4]+'.txt'\n",
    "        shutil.move(label_path+'/'+label_file, move_label)"
   ]
  },
  {
   "cell_type": "code",
   "execution_count": 8,
   "id": "520c64a2",
   "metadata": {},
   "outputs": [],
   "source": [
    "# test 이동\n",
    "test_img = 'C:\\\\Users\\\\user\\\\yolov5\\\\data\\\\health_datasets\\\\test\\\\images\\\\'\n",
    "test_label = 'C:\\\\Users\\\\user\\\\yolov5\\\\data\\\\health_datasets\\\\test\\\\labels\\\\'\n",
    "\n",
    "for file in img_list:\n",
    "    if file in test_img_list:\n",
    "        shutil.move(img_path+'/'+file, test_img) \n",
    "        label_file = file[:-4]+'.txt'\n",
    "        shutil.move(label_path+'/'+label_file, test_label)"
   ]
  },
  {
   "cell_type": "code",
   "execution_count": null,
   "id": "9c319258",
   "metadata": {},
   "outputs": [],
   "source": []
  }
 ],
 "metadata": {
  "kernelspec": {
   "display_name": "Python 3 (ipykernel)",
   "language": "python",
   "name": "python3"
  },
  "language_info": {
   "codemirror_mode": {
    "name": "ipython",
    "version": 3
   },
   "file_extension": ".py",
   "mimetype": "text/x-python",
   "name": "python",
   "nbconvert_exporter": "python",
   "pygments_lexer": "ipython3",
   "version": "3.9.12"
  }
 },
 "nbformat": 4,
 "nbformat_minor": 5
}
