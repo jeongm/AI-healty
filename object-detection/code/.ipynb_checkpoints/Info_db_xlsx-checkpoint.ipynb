{
 "cells": [
  {
   "cell_type": "code",
   "execution_count": 3,
   "id": "7966e614",
   "metadata": {},
   "outputs": [],
   "source": [
    "import pandas as pd\n",
    "import xlrd\n"
   ]
  },
  {
   "cell_type": "code",
   "execution_count": 5,
   "id": "0a2522e0",
   "metadata": {
    "scrolled": true
   },
   "outputs": [],
   "source": [
    "# 데이터 불러오기\n",
    "path=''\n",
    "df_origin = pd.read_excel(\"../건강관리를 위한 음식 이미지/Info Table/통합 식품영양성분DB/통합 식품영양성분DB.xlsx\")"
   ]
  },
  {
   "cell_type": "code",
   "execution_count": 6,
   "id": "4e4e8d63",
   "metadata": {},
   "outputs": [],
   "source": [
    "df = df_origin"
   ]
  },
  {
   "cell_type": "code",
   "execution_count": 7,
   "id": "225a0d6d",
   "metadata": {},
   "outputs": [
    {
     "data": {
      "text/plain": [
       "Index(['Unnamed: 0', 'Unnamed: 1', 'Unnamed: 2', 'Unnamed: 3', 'Unnamed: 4',\n",
       "       'Unnamed: 5', 'Unnamed: 6', 'Unnamed: 7', 'Unnamed: 8', 'Unnamed: 9',\n",
       "       ...\n",
       "       'Unnamed: 225', 'Unnamed: 226', 'Unnamed: 227', 'Unnamed: 228',\n",
       "       'Unnamed: 229', 'Unnamed: 230', 'Unnamed: 231', 'Unnamed: 232',\n",
       "       'Unnamed: 233', 'Unnamed: 234'],\n",
       "      dtype='object', length=235)"
      ]
     },
     "execution_count": 7,
     "metadata": {},
     "output_type": "execute_result"
    }
   ],
   "source": [
    "df.columns"
   ]
  },
  {
   "cell_type": "code",
   "execution_count": 24,
   "id": "f67682e3",
   "metadata": {},
   "outputs": [
    {
     "name": "stdout",
     "output_type": "stream",
     "text": [
      "<class 'pandas.core.frame.DataFrame'>\n",
      "RangeIndex: 52943 entries, 0 to 52942\n",
      "Columns: 235 entries, Unnamed: 0 to Unnamed: 234\n",
      "dtypes: object(235)\n",
      "memory usage: 94.9+ MB\n"
     ]
    }
   ],
   "source": [
    "df.info()"
   ]
  },
  {
   "cell_type": "code",
   "execution_count": 25,
   "id": "f782e30b",
   "metadata": {},
   "outputs": [
    {
     "data": {
      "text/plain": [
       "(52943, 235)"
      ]
     },
     "execution_count": 25,
     "metadata": {},
     "output_type": "execute_result"
    }
   ],
   "source": [
    "# (행,열) 크기 확인\n",
    "df.shape "
   ]
  },
  {
   "cell_type": "code",
   "execution_count": 8,
   "id": "06539b8d",
   "metadata": {},
   "outputs": [],
   "source": [
    "# 인덱스 지정 행 삭제\n",
    "df = df.drop([0,1],axis=0)"
   ]
  },
  {
   "cell_type": "code",
   "execution_count": 9,
   "id": "95df50ea",
   "metadata": {},
   "outputs": [],
   "source": [
    "# 첫 번째 행을 column으로 지정\n",
    "df = df.rename(columns=df.iloc[0])\n",
    "df = df.drop(df.index[0])"
   ]
  },
  {
   "cell_type": "code",
   "execution_count": 10,
   "id": "ceadf67f",
   "metadata": {},
   "outputs": [
    {
     "data": {
      "text/html": [
       "<div>\n",
       "<style scoped>\n",
       "    .dataframe tbody tr th:only-of-type {\n",
       "        vertical-align: middle;\n",
       "    }\n",
       "\n",
       "    .dataframe tbody tr th {\n",
       "        vertical-align: top;\n",
       "    }\n",
       "\n",
       "    .dataframe thead th {\n",
       "        text-align: right;\n",
       "    }\n",
       "</style>\n",
       "<table border=\"1\" class=\"dataframe\">\n",
       "  <thead>\n",
       "    <tr style=\"text-align: right;\">\n",
       "      <th></th>\n",
       "      <th>NO</th>\n",
       "      <th>SAMPLE_ID</th>\n",
       "      <th>식품코드</th>\n",
       "      <th>DB군</th>\n",
       "      <th>상용제품</th>\n",
       "      <th>식품명</th>\n",
       "      <th>연도</th>\n",
       "      <th>지역 / 제조사</th>\n",
       "      <th>채취시기</th>\n",
       "      <th>식품대분류</th>\n",
       "      <th>...</th>\n",
       "      <th>냉산가용성물질(㎎)</th>\n",
       "      <th>총 불포화지방산(g)</th>\n",
       "      <th>식염상당량(g)</th>\n",
       "      <th>회분(g)</th>\n",
       "      <th>폐기율(%)</th>\n",
       "      <th>가식부(%)</th>\n",
       "      <th>산가용성물질(%)</th>\n",
       "      <th>카페인(㎎)</th>\n",
       "      <th>성분표출처</th>\n",
       "      <th>발행기관</th>\n",
       "    </tr>\n",
       "  </thead>\n",
       "  <tbody>\n",
       "    <tr>\n",
       "      <th>3</th>\n",
       "      <td>1</td>\n",
       "      <td>D000006-94-AVG</td>\n",
       "      <td>D000006</td>\n",
       "      <td>음식</td>\n",
       "      <td>품목대표</td>\n",
       "      <td>꿩불고기</td>\n",
       "      <td>2019</td>\n",
       "      <td>충주</td>\n",
       "      <td>평균</td>\n",
       "      <td>구이류</td>\n",
       "      <td>...</td>\n",
       "      <td>-</td>\n",
       "      <td>-</td>\n",
       "      <td>-</td>\n",
       "      <td>5.8</td>\n",
       "      <td>-</td>\n",
       "      <td>-</td>\n",
       "      <td>-</td>\n",
       "      <td>-</td>\n",
       "      <td>식약처('16) 제4권</td>\n",
       "      <td>식품의약품안전처</td>\n",
       "    </tr>\n",
       "    <tr>\n",
       "      <th>4</th>\n",
       "      <td>2</td>\n",
       "      <td>D000007-ZZ-AVG</td>\n",
       "      <td>D000007</td>\n",
       "      <td>음식</td>\n",
       "      <td>품목대표</td>\n",
       "      <td>닭갈비</td>\n",
       "      <td>2019</td>\n",
       "      <td>전국(대표)</td>\n",
       "      <td>평균</td>\n",
       "      <td>구이류</td>\n",
       "      <td>...</td>\n",
       "      <td>-</td>\n",
       "      <td>-</td>\n",
       "      <td>-</td>\n",
       "      <td>7</td>\n",
       "      <td>-</td>\n",
       "      <td>-</td>\n",
       "      <td>-</td>\n",
       "      <td>-</td>\n",
       "      <td>식약처('16) 제4권</td>\n",
       "      <td>식품의약품안전처</td>\n",
       "    </tr>\n",
       "    <tr>\n",
       "      <th>5</th>\n",
       "      <td>3</td>\n",
       "      <td>D000008-66-AVG</td>\n",
       "      <td>D000008</td>\n",
       "      <td>음식</td>\n",
       "      <td>품목대표</td>\n",
       "      <td>닭갈비</td>\n",
       "      <td>2019</td>\n",
       "      <td>춘천</td>\n",
       "      <td>평균</td>\n",
       "      <td>구이류</td>\n",
       "      <td>...</td>\n",
       "      <td>-</td>\n",
       "      <td>-</td>\n",
       "      <td>-</td>\n",
       "      <td>4.5</td>\n",
       "      <td>-</td>\n",
       "      <td>-</td>\n",
       "      <td>-</td>\n",
       "      <td>-</td>\n",
       "      <td>식약처('16) 제4권</td>\n",
       "      <td>식품의약품안전처</td>\n",
       "    </tr>\n",
       "    <tr>\n",
       "      <th>6</th>\n",
       "      <td>4</td>\n",
       "      <td>D000009-ZZ-AVG</td>\n",
       "      <td>D000009</td>\n",
       "      <td>음식</td>\n",
       "      <td>품목대표</td>\n",
       "      <td>닭꼬치</td>\n",
       "      <td>2019</td>\n",
       "      <td>전국(대표)</td>\n",
       "      <td>평균</td>\n",
       "      <td>구이류</td>\n",
       "      <td>...</td>\n",
       "      <td>-</td>\n",
       "      <td>-</td>\n",
       "      <td>-</td>\n",
       "      <td>1.218</td>\n",
       "      <td>-</td>\n",
       "      <td>-</td>\n",
       "      <td>-</td>\n",
       "      <td>-</td>\n",
       "      <td>식약처('12) 제1권</td>\n",
       "      <td>식품의약품안전처</td>\n",
       "    </tr>\n",
       "    <tr>\n",
       "      <th>7</th>\n",
       "      <td>5</td>\n",
       "      <td>D000010-ZZ-AVG</td>\n",
       "      <td>D000010</td>\n",
       "      <td>음식</td>\n",
       "      <td>품목대표</td>\n",
       "      <td>더덕구이</td>\n",
       "      <td>2019</td>\n",
       "      <td>전국(대표)</td>\n",
       "      <td>평균</td>\n",
       "      <td>구이류</td>\n",
       "      <td>...</td>\n",
       "      <td>-</td>\n",
       "      <td>-</td>\n",
       "      <td>-</td>\n",
       "      <td>2.5</td>\n",
       "      <td>-</td>\n",
       "      <td>-</td>\n",
       "      <td>-</td>\n",
       "      <td>-</td>\n",
       "      <td>식약처('17) 제5권</td>\n",
       "      <td>식품의약품안전처</td>\n",
       "    </tr>\n",
       "  </tbody>\n",
       "</table>\n",
       "<p>5 rows × 235 columns</p>\n",
       "</div>"
      ],
      "text/plain": [
       "  NO       SAMPLE_ID     식품코드 DB군  상용제품   식품명    연도 지역 / 제조사 채취시기 식품대분류  ...  \\\n",
       "3  1  D000006-94-AVG  D000006  음식  품목대표  꿩불고기  2019       충주   평균   구이류  ...   \n",
       "4  2  D000007-ZZ-AVG  D000007  음식  품목대표   닭갈비  2019   전국(대표)   평균   구이류  ...   \n",
       "5  3  D000008-66-AVG  D000008  음식  품목대표   닭갈비  2019       춘천   평균   구이류  ...   \n",
       "6  4  D000009-ZZ-AVG  D000009  음식  품목대표   닭꼬치  2019   전국(대표)   평균   구이류  ...   \n",
       "7  5  D000010-ZZ-AVG  D000010  음식  품목대표  더덕구이  2019   전국(대표)   평균   구이류  ...   \n",
       "\n",
       "  냉산가용성물질(㎎) 총 불포화지방산(g) 식염상당량(g)  회분(g) 폐기율(%) 가식부(%) 산가용성물질(%) 카페인(㎎)  \\\n",
       "3          -           -        -    5.8      -      -         -      -   \n",
       "4          -           -        -      7      -      -         -      -   \n",
       "5          -           -        -    4.5      -      -         -      -   \n",
       "6          -           -        -  1.218      -      -         -      -   \n",
       "7          -           -        -    2.5      -      -         -      -   \n",
       "\n",
       "          성분표출처      발행기관  \n",
       "3  식약처('16) 제4권  식품의약품안전처  \n",
       "4  식약처('16) 제4권  식품의약품안전처  \n",
       "5  식약처('16) 제4권  식품의약품안전처  \n",
       "6  식약처('12) 제1권  식품의약품안전처  \n",
       "7  식약처('17) 제5권  식품의약품안전처  \n",
       "\n",
       "[5 rows x 235 columns]"
      ]
     },
     "execution_count": 10,
     "metadata": {},
     "output_type": "execute_result"
    }
   ],
   "source": [
    "df.head(5)"
   ]
  },
  {
   "cell_type": "code",
   "execution_count": 11,
   "id": "dc3b87c9",
   "metadata": {},
   "outputs": [
    {
     "data": {
      "text/plain": [
       "Index(['NO', 'SAMPLE_ID', '식품코드', 'DB군', '상용제품', '식품명', '연도', '지역 / 제조사',\n",
       "       '채취시기', '식품대분류',\n",
       "       ...\n",
       "       '냉산가용성물질(㎎)', '총 불포화지방산(g)', '식염상당량(g)', '회분(g)', '폐기율(%)', '가식부(%)',\n",
       "       '산가용성물질(%)', '카페인(㎎)', '성분표출처', '발행기관'],\n",
       "      dtype='object', length=235)"
      ]
     },
     "execution_count": 11,
     "metadata": {},
     "output_type": "execute_result"
    }
   ],
   "source": [
    "df.columns"
   ]
  },
  {
   "cell_type": "code",
   "execution_count": 2,
   "id": "fd888baf",
   "metadata": {},
   "outputs": [
    {
     "ename": "NameError",
     "evalue": "name 'df' is not defined",
     "output_type": "error",
     "traceback": [
      "\u001b[1;31m---------------------------------------------------------------------------\u001b[0m",
      "\u001b[1;31mNameError\u001b[0m                                 Traceback (most recent call last)",
      "Input \u001b[1;32mIn [2]\u001b[0m, in \u001b[0;36m<cell line: 2>\u001b[1;34m()\u001b[0m\n\u001b[0;32m      1\u001b[0m \u001b[38;5;66;03m# 열 삭제\u001b[39;00m\n\u001b[1;32m----> 2\u001b[0m \u001b[43mdf\u001b[49m\u001b[38;5;241m.\u001b[39mdrop([\u001b[38;5;124m'\u001b[39m\u001b[38;5;124m발행기관\u001b[39m\u001b[38;5;124m'\u001b[39m,\u001b[38;5;124m'\u001b[39m\u001b[38;5;124m성분표출처\u001b[39m\u001b[38;5;124m'\u001b[39m,\u001b[38;5;124m'\u001b[39m\u001b[38;5;124m연도\u001b[39m\u001b[38;5;124m'\u001b[39m],axis\u001b[38;5;241m=\u001b[39m\u001b[38;5;241m1\u001b[39m)\n",
      "\u001b[1;31mNameError\u001b[0m: name 'df' is not defined"
     ]
    }
   ],
   "source": [
    "# 열 삭제\n",
    "#df.drop(['발행기관','성분표출처','연도'],axis=1)"
   ]
  },
  {
   "cell_type": "code",
   "execution_count": 13,
   "id": "131dd208",
   "metadata": {},
   "outputs": [],
   "source": [
    "# 특정 열 추출\n",
    "df_class = df[['DB군','식품명','식품대분류','식품상세분류','에너지(㎉)','단백질(g)','지방(g)','탄수화물(g)','총 식이섬유(g)','콜레스테롤(㎎)']]"
   ]
  },
  {
   "cell_type": "code",
   "execution_count": 15,
   "id": "2e384971",
   "metadata": {},
   "outputs": [
    {
     "name": "stdout",
     "output_type": "stream",
     "text": [
      "<class 'pandas.core.frame.DataFrame'>\n",
      "RangeIndex: 52940 entries, 3 to 52942\n",
      "Data columns (total 10 columns):\n",
      " #   Column     Non-Null Count  Dtype \n",
      "---  ------     --------------  ----- \n",
      " 0   DB군        52940 non-null  object\n",
      " 1   식품명        52940 non-null  object\n",
      " 2   식품대분류      52940 non-null  object\n",
      " 3   식품상세분류     52940 non-null  object\n",
      " 4   에너지(㎉)     52940 non-null  object\n",
      " 5   단백질(g)     52940 non-null  object\n",
      " 6   지방(g)      52940 non-null  object\n",
      " 7   탄수화물(g)    52940 non-null  object\n",
      " 8   총 식이섬유(g)  52940 non-null  object\n",
      " 9   콜레스테롤(㎎)   52940 non-null  object\n",
      "dtypes: object(10)\n",
      "memory usage: 4.0+ MB\n"
     ]
    }
   ],
   "source": [
    "#df_class.head()\n",
    "df_class.info()"
   ]
  },
  {
   "cell_type": "code",
   "execution_count": 16,
   "id": "5551568e",
   "metadata": {},
   "outputs": [
    {
     "ename": "KeyError",
     "evalue": "'빵'",
     "output_type": "error",
     "traceback": [
      "\u001b[1;31m---------------------------------------------------------------------------\u001b[0m",
      "\u001b[1;31mKeyError\u001b[0m                                  Traceback (most recent call last)",
      "File \u001b[1;32mC:\\ProgramData\\Anaconda3\\lib\\site-packages\\pandas\\core\\indexes\\base.py:3621\u001b[0m, in \u001b[0;36mIndex.get_loc\u001b[1;34m(self, key, method, tolerance)\u001b[0m\n\u001b[0;32m   3620\u001b[0m \u001b[38;5;28;01mtry\u001b[39;00m:\n\u001b[1;32m-> 3621\u001b[0m     \u001b[38;5;28;01mreturn\u001b[39;00m \u001b[38;5;28;43mself\u001b[39;49m\u001b[38;5;241;43m.\u001b[39;49m\u001b[43m_engine\u001b[49m\u001b[38;5;241;43m.\u001b[39;49m\u001b[43mget_loc\u001b[49m\u001b[43m(\u001b[49m\u001b[43mcasted_key\u001b[49m\u001b[43m)\u001b[49m\n\u001b[0;32m   3622\u001b[0m \u001b[38;5;28;01mexcept\u001b[39;00m \u001b[38;5;167;01mKeyError\u001b[39;00m \u001b[38;5;28;01mas\u001b[39;00m err:\n",
      "File \u001b[1;32mC:\\ProgramData\\Anaconda3\\lib\\site-packages\\pandas\\_libs\\index.pyx:136\u001b[0m, in \u001b[0;36mpandas._libs.index.IndexEngine.get_loc\u001b[1;34m()\u001b[0m\n",
      "File \u001b[1;32mC:\\ProgramData\\Anaconda3\\lib\\site-packages\\pandas\\_libs\\index.pyx:163\u001b[0m, in \u001b[0;36mpandas._libs.index.IndexEngine.get_loc\u001b[1;34m()\u001b[0m\n",
      "File \u001b[1;32mpandas\\_libs\\hashtable_class_helper.pxi:5198\u001b[0m, in \u001b[0;36mpandas._libs.hashtable.PyObjectHashTable.get_item\u001b[1;34m()\u001b[0m\n",
      "File \u001b[1;32mpandas\\_libs\\hashtable_class_helper.pxi:5206\u001b[0m, in \u001b[0;36mpandas._libs.hashtable.PyObjectHashTable.get_item\u001b[1;34m()\u001b[0m\n",
      "\u001b[1;31mKeyError\u001b[0m: '빵'",
      "\nThe above exception was the direct cause of the following exception:\n",
      "\u001b[1;31mKeyError\u001b[0m                                  Traceback (most recent call last)",
      "Input \u001b[1;32mIn [16]\u001b[0m, in \u001b[0;36m<cell line: 1>\u001b[1;34m()\u001b[0m\n\u001b[1;32m----> 1\u001b[0m \u001b[43mdf_class\u001b[49m\u001b[43m[\u001b[49m\u001b[38;5;124;43m'\u001b[39;49m\u001b[38;5;124;43m빵\u001b[39;49m\u001b[38;5;124;43m'\u001b[39;49m\u001b[43m]\u001b[49m\n",
      "File \u001b[1;32mC:\\ProgramData\\Anaconda3\\lib\\site-packages\\pandas\\core\\frame.py:3505\u001b[0m, in \u001b[0;36mDataFrame.__getitem__\u001b[1;34m(self, key)\u001b[0m\n\u001b[0;32m   3503\u001b[0m \u001b[38;5;28;01mif\u001b[39;00m \u001b[38;5;28mself\u001b[39m\u001b[38;5;241m.\u001b[39mcolumns\u001b[38;5;241m.\u001b[39mnlevels \u001b[38;5;241m>\u001b[39m \u001b[38;5;241m1\u001b[39m:\n\u001b[0;32m   3504\u001b[0m     \u001b[38;5;28;01mreturn\u001b[39;00m \u001b[38;5;28mself\u001b[39m\u001b[38;5;241m.\u001b[39m_getitem_multilevel(key)\n\u001b[1;32m-> 3505\u001b[0m indexer \u001b[38;5;241m=\u001b[39m \u001b[38;5;28;43mself\u001b[39;49m\u001b[38;5;241;43m.\u001b[39;49m\u001b[43mcolumns\u001b[49m\u001b[38;5;241;43m.\u001b[39;49m\u001b[43mget_loc\u001b[49m\u001b[43m(\u001b[49m\u001b[43mkey\u001b[49m\u001b[43m)\u001b[49m\n\u001b[0;32m   3506\u001b[0m \u001b[38;5;28;01mif\u001b[39;00m is_integer(indexer):\n\u001b[0;32m   3507\u001b[0m     indexer \u001b[38;5;241m=\u001b[39m [indexer]\n",
      "File \u001b[1;32mC:\\ProgramData\\Anaconda3\\lib\\site-packages\\pandas\\core\\indexes\\base.py:3623\u001b[0m, in \u001b[0;36mIndex.get_loc\u001b[1;34m(self, key, method, tolerance)\u001b[0m\n\u001b[0;32m   3621\u001b[0m     \u001b[38;5;28;01mreturn\u001b[39;00m \u001b[38;5;28mself\u001b[39m\u001b[38;5;241m.\u001b[39m_engine\u001b[38;5;241m.\u001b[39mget_loc(casted_key)\n\u001b[0;32m   3622\u001b[0m \u001b[38;5;28;01mexcept\u001b[39;00m \u001b[38;5;167;01mKeyError\u001b[39;00m \u001b[38;5;28;01mas\u001b[39;00m err:\n\u001b[1;32m-> 3623\u001b[0m     \u001b[38;5;28;01mraise\u001b[39;00m \u001b[38;5;167;01mKeyError\u001b[39;00m(key) \u001b[38;5;28;01mfrom\u001b[39;00m \u001b[38;5;21;01merr\u001b[39;00m\n\u001b[0;32m   3624\u001b[0m \u001b[38;5;28;01mexcept\u001b[39;00m \u001b[38;5;167;01mTypeError\u001b[39;00m:\n\u001b[0;32m   3625\u001b[0m     \u001b[38;5;66;03m# If we have a listlike key, _check_indexing_error will raise\u001b[39;00m\n\u001b[0;32m   3626\u001b[0m     \u001b[38;5;66;03m#  InvalidIndexError. Otherwise we fall through and re-raise\u001b[39;00m\n\u001b[0;32m   3627\u001b[0m     \u001b[38;5;66;03m#  the TypeError.\u001b[39;00m\n\u001b[0;32m   3628\u001b[0m     \u001b[38;5;28mself\u001b[39m\u001b[38;5;241m.\u001b[39m_check_indexing_error(key)\n",
      "\u001b[1;31mKeyError\u001b[0m: '빵'"
     ]
    }
   ],
   "source": [
    "df_class['빵'],axis=0"
   ]
  },
  {
   "cell_type": "code",
   "execution_count": null,
   "id": "242fdfe5",
   "metadata": {},
   "outputs": [],
   "source": []
  }
 ],
 "metadata": {
  "kernelspec": {
   "display_name": "Python 3 (ipykernel)",
   "language": "python",
   "name": "python3"
  },
  "language_info": {
   "codemirror_mode": {
    "name": "ipython",
    "version": 3
   },
   "file_extension": ".py",
   "mimetype": "text/x-python",
   "name": "python",
   "nbconvert_exporter": "python",
   "pygments_lexer": "ipython3",
   "version": "3.9.12"
  }
 },
 "nbformat": 4,
 "nbformat_minor": 5
}
