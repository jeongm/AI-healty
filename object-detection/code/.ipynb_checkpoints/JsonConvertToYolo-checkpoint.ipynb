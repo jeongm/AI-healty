{
 "cells": [
  {
   "cell_type": "code",
   "execution_count": 1,
   "id": "78429feb",
   "metadata": {},
   "outputs": [],
   "source": [
    "import json"
   ]
  },
  {
   "cell_type": "markdown",
   "id": "3493adfd",
   "metadata": {},
   "source": [
    "## json파일 txt 변환"
   ]
  },
  {
   "cell_type": "code",
   "execution_count": 35,
   "id": "62e2a026",
   "metadata": {},
   "outputs": [
    {
     "name": "stdout",
     "output_type": "stream",
     "text": [
      "[{'Code Name': 'A190208XX_10345.jpg', 'Name': 'banillaaiseukeulim', 'W': '0.524074074074074', 'H': '0.275720164609054', 'File Format': 'jpg', 'Cat 1': '19', 'Cat 2': '02', 'Cat 3': '08', 'Cat 4': 'xx', 'Annotation Type': 'binding', 'Point(x,y)': '0.502160493827161,0.319753086419753', 'Label': '0', 'Serving Size': 'xx', 'Camera Angle': 'xx', 'Cardinal Angle': 'xx', 'Color of Container': 'xx', 'Material of Container': 'xx', 'Illuminance': 'xx'}]\n",
      "0.524074074074074\n",
      "0.275720164609054\n",
      "['0', '0.502160493827161', '0.319753086419753', '0.524074074074074', '0.275720164609054']\n"
     ]
    }
   ],
   "source": [
    "with open(\"test/images/A190208XX_10345.json\",'r') as f:\n",
    "    json_data = json.load(f) \n",
    "\n",
    "print(json_data) # \n",
    "\n",
    "#print(json_data[0]['Label']) # 원하는 값 출력\n",
    "point = json_data[0]['Point(x,y)'].split(',')\n",
    "x = point[0]\n",
    "y = point[1]\n",
    "\n",
    "label=[]\n",
    "label.append(json_data[0]['Label'])\n",
    "label.append(x)\n",
    "label.append(y)\n",
    "label.append(json_data[0]['W'])\n",
    "label.append(json_data[0]['H'])\n",
    "print(label)\n",
    "\n",
    "# list txt파일로 저장\n",
    "with open('test/images/A190208XX_10345.txt','w',encoding='UTF-8') as f:\n",
    "    for value in label:\n",
    "        f.write(value+' ')\n"
   ]
  },
  {
   "cell_type": "markdown",
   "id": "c0d52a80",
   "metadata": {},
   "source": [
    "## 폴더 내 모든 json 파일 변환"
   ]
  },
  {
   "cell_type": "code",
   "execution_count": 42,
   "id": "7f7a4a15",
   "metadata": {
    "scrolled": true
   },
   "outputs": [
    {
     "name": "stdout",
     "output_type": "stream",
     "text": [
      "['A190208XX_10345.json', 'A190208XX_10346.json', 'A190208XX_10347.json', 'A190208XX_10348.json', 'A190208XX_10349.json']\n",
      "['0', '0.502160493827161', '0.319753086419753', '0.524074074074074', '0.275720164609054']\n",
      "['0', '0.492592592592593', '0.479320987654321', '0.281481481481481', '0.367283950617284']\n",
      "['0', '0.607407407407407', '0.467078189300412', '0.380246913580247', '0.255144032921811']\n",
      "['0', '0.266460905349794', '0.54354539839407', '0.223456790123457', '0.40271772699197']\n",
      "['0', '0.492181069958848', '0.444753086419753', '0.405761316872428', '0.488271604938272']\n"
     ]
    }
   ],
   "source": [
    "# 폴더 내 모든 json파일 목록 가져오기\n",
    "import glob\n",
    "import os\n",
    "\n",
    "path = 'test/images/'\n",
    "\n",
    "file_list = os.listdir(path) # 모든 파일 다 가져옴\n",
    "json_list = [file for file in file_list if file.endswith('.json')] # json 파일만 가져옴\n",
    "print(json_list)\n",
    "\n",
    "for file in json_list:\n",
    "    with open(path + file,'r') as f:\n",
    "        json_data = json.load(f) \n",
    "\n",
    "    #print(json_data) #  파일 내용 확인\n",
    "\n",
    "    #print(json_data[0]['Label']) # 원하는 값 출력\n",
    "    point = json_data[0]['Point(x,y)'].split(',')\n",
    "    x = point[0]\n",
    "    y = point[1]\n",
    "\n",
    "    label=[]\n",
    "    label.append(json_data[0]['Label']) # 라벨값 수정 필요\n",
    "    label.append(x)\n",
    "    label.append(y)\n",
    "    label.append(json_data[0]['W'])\n",
    "    label.append(json_data[0]['H'])\n",
    "    print(label)\n",
    "    \n",
    "    file_name = file[:-5]\n",
    "    # list txt파일로 저장\n",
    "    with open(path+file_name+'.txt','w',encoding='UTF-8') as f:\n",
    "        for value in label:\n",
    "            f.write(value+' ')\n",
    "\n"
   ]
  },
  {
   "cell_type": "code",
   "execution_count": null,
   "id": "0d9e7930",
   "metadata": {},
   "outputs": [],
   "source": []
  }
 ],
 "metadata": {
  "kernelspec": {
   "display_name": "Python 3 (ipykernel)",
   "language": "python",
   "name": "python3"
  },
  "language_info": {
   "codemirror_mode": {
    "name": "ipython",
    "version": 3
   },
   "file_extension": ".py",
   "mimetype": "text/x-python",
   "name": "python",
   "nbconvert_exporter": "python",
   "pygments_lexer": "ipython3",
   "version": "3.9.12"
  }
 },
 "nbformat": 4,
 "nbformat_minor": 5
}
