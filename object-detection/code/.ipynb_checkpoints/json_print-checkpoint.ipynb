{
 "cells": [
  {
   "cell_type": "code",
   "execution_count": 3,
   "id": "05f8bf77",
   "metadata": {},
   "outputs": [],
   "source": [
    "data=[{\"xmin\":104.2898788452,\"ymin\":1206.0611572266,\"xmax\":625.9426269531,\"ymax\":1475.1000976562,\"confidence\":0.9130751491,\"class\":16,\"name\":\"dog\"},{\"xmin\":834.5873413086,\"ymin\":726.6124267578,\"xmax\":1241.7209472656,\"ymax\":1644.1550292969,\"confidence\":0.8895811439,\"class\":0,\"name\":\"person\"}]"
   ]
  },
  {
   "cell_type": "code",
   "execution_count": 5,
   "id": "40b84765",
   "metadata": {},
   "outputs": [],
   "source": [
    "results = [ e[\"name\"] for e in data ]"
   ]
  },
  {
   "cell_type": "code",
   "execution_count": 6,
   "id": "08c22b4c",
   "metadata": {},
   "outputs": [
    {
     "data": {
      "text/plain": [
       "['dog', 'person']"
      ]
     },
     "execution_count": 6,
     "metadata": {},
     "output_type": "execute_result"
    }
   ],
   "source": [
    "results"
   ]
  },
  {
   "cell_type": "code",
   "execution_count": 9,
   "id": "c53f2841",
   "metadata": {},
   "outputs": [
    {
     "name": "stdout",
     "output_type": "stream",
     "text": [
      "Defaulting to user installation because normal site-packages is not writeable\n",
      "Collecting opencv-python\n",
      "  Using cached opencv_python-4.6.0.66-cp36-abi3-win_amd64.whl (35.6 MB)\n",
      "Requirement already satisfied: numpy>=1.14.5 in c:\\programdata\\anaconda3\\lib\\site-packages (from opencv-python) (1.21.5)\n",
      "Installing collected packages: opencv-python\n",
      "Successfully installed opencv-python-4.6.0.66\n"
     ]
    }
   ],
   "source": [
    "!pip install opencv-python"
   ]
  },
  {
   "cell_type": "code",
   "execution_count": null,
   "id": "5dc34387",
   "metadata": {},
   "outputs": [],
   "source": [
    "import os,shutil\n",
    "import numpy as np\n",
    "import cv2\n",
    "from PIL import Image\n",
    "\n",
    "img_path='C:\\\\Users\\\\user\\\\yolov5\\\\data\\\\health_datasets\\\\train\\\\images_not\\\\'\n",
    " \n",
    "img_list = os.listdir(img_path) # 이미지 \n",
    "print(len(img_list))\n",
    "\n",
    "cnt = 0\n",
    "for file in img_list:\n",
    "    cnt+=1\n",
    "    if cnt%1000 == 0:\n",
    "        print(cnt)\n",
    "    try:\n",
    "        img = cv2.imread(img_path + file)\n",
    "        resize_img = cv2.resize(img, (0, 0), fx=0.4, fy=0.4, interpolation=cv2.INTER_AREA)\n",
    "        cv2.imwrite(img_path+file,resize_img)\n",
    "    except:\n",
    "        print('error  '+file)\n",
    "    \n",
    "    \n",
    "    \n"
   ]
  },
  {
   "cell_type": "code",
   "execution_count": null,
   "id": "7b088a15",
   "metadata": {},
   "outputs": [],
   "source": []
  }
 ],
 "metadata": {
  "kernelspec": {
   "display_name": "Python 3 (ipykernel)",
   "language": "python",
   "name": "python3"
  },
  "language_info": {
   "codemirror_mode": {
    "name": "ipython",
    "version": 3
   },
   "file_extension": ".py",
   "mimetype": "text/x-python",
   "name": "python",
   "nbconvert_exporter": "python",
   "pygments_lexer": "ipython3",
   "version": "3.9.12"
  }
 },
 "nbformat": 4,
 "nbformat_minor": 5
}
