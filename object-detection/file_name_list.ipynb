{
 "cells": [
  {
   "cell_type": "code",
   "execution_count": 2,
   "id": "a6c70151",
   "metadata": {},
   "outputs": [
    {
     "name": "stdout",
     "output_type": "stream",
     "text": [
      "['ku_1.jpg', 'ku_10.jpg', 'ku_100.jpg', 'ku_101.jpg', 'ku_102.jpg', 'ku_103.jpg', 'ku_104.jpg', 'ku_105.jpg', 'ku_106.jpg', 'ku_107.jpg', 'ku_108.jpg', 'ku_109.jpg', 'ku_11.jpg', 'ku_110.jpg', 'ku_111.jpg', 'ku_112.jpg', 'ku_12.jpg', 'ku_13.jpg', 'ku_14.jpg', 'ku_15.jpg', 'ku_16.jpg', 'ku_17.jpg', 'ku_18.jpg', 'ku_19.jpg', 'ku_2.jpg', 'ku_20.jpg', 'ku_21.jpg', 'ku_22.jpg', 'ku_23.jpg', 'ku_24.jpg', 'ku_25.jpg', 'ku_26.jpg', 'ku_27.jpg', 'ku_28.jpg', 'ku_29.jpg', 'ku_3.jpg', 'ku_30.jpg', 'ku_31.jpg', 'ku_32.jpg', 'ku_33.jpg', 'ku_34.jpg', 'ku_35.jpg', 'ku_36.jpg', 'ku_37.jpg', 'ku_38.jpg', 'ku_39.jpg', 'ku_4.jpg', 'ku_40.jpg', 'ku_41.jpg', 'ku_42.jpg', 'ku_43.jpg', 'ku_44.jpg', 'ku_45.jpg', 'ku_46.jpg', 'ku_47.jpg', 'ku_48.jpg', 'ku_49.jpg', 'ku_5.jpg', 'ku_50.jpg', 'ku_51.jpg', 'ku_52.jpg', 'ku_53.jpg', 'ku_54.jpg', 'ku_55.jpg', 'ku_56.jpg', 'ku_57.jpg', 'ku_58.jpg', 'ku_59.jpg', 'ku_6.jpg', 'ku_60.jpg', 'ku_61.jpg', 'ku_62.jpg', 'ku_63.jpg', 'ku_64.jpg', 'ku_65.jpg', 'ku_66.jpg', 'ku_67.jpg', 'ku_68.jpg', 'ku_69.jpg', 'ku_7.jpg', 'ku_70.jpg', 'ku_71.jpg', 'ku_72.jpg', 'ku_73.jpg', 'ku_74.jpg', 'ku_75.jpg', 'ku_76.jpg', 'ku_77.jpg', 'ku_78.jpg', 'ku_79.jpg', 'ku_8.jpg', 'ku_80.jpg', 'ku_81.jpg', 'ku_82.jpg', 'ku_83.jpg', 'ku_84.jpg', 'ku_85.jpg', 'ku_86.jpg', 'ku_87.jpg', 'ku_88.jpg', 'ku_89.jpg', 'ku_9.jpg', 'ku_90.jpg', 'ku_91.jpg', 'ku_92.jpg', 'ku_93.jpg', 'ku_94.jpg', 'ku_95.jpg', 'ku_96.jpg', 'ku_97.jpg', 'ku_98.jpg', 'ku_99.jpg']\n"
     ]
    }
   ],
   "source": [
    "import glob\n",
    "import os\n",
    "\n",
    "path = 'person/images'\n",
    "\n",
    "file_list = os.listdir(path)\n",
    "file_img = [file for file in file_list if file.endswith('.jpg')]\n",
    "print(file_img)\n",
    "\n",
    "with open('train.txt','w',encoding='UTF-8') as f:\n",
    "    for name in file_img:\n",
    "        f.write('data/person/obj/'+name+'\\n')"
   ]
  },
  {
   "cell_type": "code",
   "execution_count": null,
   "id": "dd460179",
   "metadata": {},
   "outputs": [],
   "source": []
  }
 ],
 "metadata": {
  "kernelspec": {
   "display_name": "Python 3",
   "language": "python",
   "name": "python3"
  },
  "language_info": {
   "codemirror_mode": {
    "name": "ipython",
    "version": 3
   },
   "file_extension": ".py",
   "mimetype": "text/x-python",
   "name": "python",
   "nbconvert_exporter": "python",
   "pygments_lexer": "ipython3",
   "version": "3.8.8"
  }
 },
 "nbformat": 4,
 "nbformat_minor": 5
}
