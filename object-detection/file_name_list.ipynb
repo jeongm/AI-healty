{
 "cells": [
  {
   "cell_type": "code",
   "execution_count": 2,
   "id": "9336638f",
   "metadata": {},
   "outputs": [
    {
     "name": "stdout",
     "output_type": "stream",
     "text": [
      "['00001.jpg', '00002.jpg', '00003.jpg', '00004.jpg', '00005.jpg', '00007.jpg', '00008.jpg', '00009.jpg', '00010.jpg', '00011.jpg']\n"
     ]
    }
   ],
   "source": [
    "import glob\n",
    "import os\n",
    "\n",
    "path = 'data/robotMower/obj'\n",
    "\n",
    "file_list = os.listdir(path)\n",
    "file_img = [file for file in file_list if file.endswith('.jpg')]\n",
    "print(file_img)\n",
    "\n",
    "with open('train.txt','w',encoding='UTF-8') as f:\n",
    "    for name in file_img:\n",
    "        f.write(path+'/'+name+'\\n')"
   ]
  },
  {
   "cell_type": "code",
   "execution_count": null,
   "id": "fc6cc482",
   "metadata": {},
   "outputs": [],
   "source": []
  }
 ],
 "metadata": {
  "kernelspec": {
   "display_name": "Python 3",
   "language": "python",
   "name": "python3"
  },
  "language_info": {
   "codemirror_mode": {
    "name": "ipython",
    "version": 3
   },
   "file_extension": ".py",
   "mimetype": "text/x-python",
   "name": "python",
   "nbconvert_exporter": "python",
   "pygments_lexer": "ipython3",
   "version": "3.8.8"
  }
 },
 "nbformat": 4,
 "nbformat_minor": 5
}
