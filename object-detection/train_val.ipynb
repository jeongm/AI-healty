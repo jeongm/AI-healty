{
 "cells": [
  {
   "cell_type": "code",
   "execution_count": null,
   "id": "84e9c6b0",
   "metadata": {},
   "outputs": [],
   "source": [
    "\n",
    "import torch\n",
    "from IPython.display import Image, clear_output  # to display images\n",
    "\n",
    "clear_output()\n",
    "print(f\"Setup complete. Using torch {torch.__version__} ({torch.cuda.get_device_properties(0).name if torch.cuda.is_available() else 'CPU'})\")\n"
   ]
  },
  {
   "cell_type": "code",
   "execution_count": 10,
   "id": "1324f61d",
   "metadata": {
    "scrolled": false
   },
   "outputs": [
    {
     "name": "stdout",
     "output_type": "stream",
     "text": [
      "['tree_1.jpg', 'tree_10.jpg', 'tree_11.jpg', 'tree_12.jpg', 'tree_13.jpg', 'tree_14.jpg', 'tree_15.jpg', 'tree_16.jpg', 'tree_17.jpg', 'tree_18.jpg', 'tree_19.jpg', 'tree_2.jpg', 'tree_20.jpg', 'tree_21.jpg', 'tree_22.jpg', 'tree_23.jpg', 'tree_24.jpg', 'tree_25.jpg', 'tree_26.jpg', 'tree_27.jpg', 'tree_28.jpg', 'tree_29.jpg', 'tree_3.jpg', 'tree_30.jpg', 'tree_31.jpg', 'tree_32.jpg', 'tree_33.jpg', 'tree_34.jpg', 'tree_35.jpg', 'tree_36.jpg', 'tree_37.jpg', 'tree_38.jpg', 'tree_39.jpg', 'tree_4.jpg', 'tree_40.jpg', 'tree_41.jpg', 'tree_42.jpg', 'tree_43.jpg', 'tree_44.jpg', 'tree_45.jpg', 'tree_46.jpg', 'tree_47.jpg', 'tree_48.jpg', 'tree_49.jpg', 'tree_5.jpg', 'tree_50.jpg', 'tree_51.jpg', 'tree_52.jpg', 'tree_53.jpg', 'tree_54.jpg', 'tree_55.jpg', 'tree_56.jpg', 'tree_57.jpg', 'tree_58.jpg', 'tree_59.jpg', 'tree_6.jpg', 'tree_60.jpg', 'tree_61.jpg', 'tree_62.jpg', 'tree_63.jpg', 'tree_64.jpg', 'tree_65.jpg', 'tree_66.jpg', 'tree_67.jpg', 'tree_68.jpg', 'tree_69.jpg', 'tree_7.jpg', 'tree_70.jpg', 'tree_71.jpg', 'tree_72.jpg', 'tree_73.jpg', 'tree_74.jpg', 'tree_75.jpg', 'tree_76.jpg', 'tree_77.jpg', 'tree_78.jpg', 'tree_79.jpg', 'tree_8.jpg', 'tree_80.jpg', 'tree_81.jpg', 'tree_82.jpg', 'tree_83.jpg', 'tree_84.jpg', 'tree_85.jpg', 'tree_86.jpg', 'tree_87.jpg', 'tree_88.jpg', 'tree_89.jpg', 'tree_9.jpg', 'tree_90.jpg', 'tree_91.jpg', 'tree_92.jpg']\n",
      "\n",
      "\n",
      "\n",
      "80 12\n",
      "\n",
      "\n",
      "\n",
      "12 ['tree_81.jpg', 'tree_38.jpg', 'tree_26.jpg', 'tree_4.jpg', 'tree_60.jpg', 'tree_12.jpg', 'tree_32.jpg', 'tree_36.jpg', 'tree_66.jpg', 'tree_53.jpg', 'tree_58.jpg', 'tree_46.jpg']\n",
      "\n",
      "\n",
      "\n",
      "12 ['tree_81.txt', 'tree_38.txt', 'tree_26.txt', 'tree_4.txt', 'tree_60.txt', 'tree_12.txt', 'tree_32.txt', 'tree_36.txt', 'tree_66.txt', 'tree_53.txt', 'tree_58.txt', 'tree_46.txt']\n",
      "\n",
      "\n",
      "\n"
     ]
    }
   ],
   "source": [
    "#train test set 분리\n",
    "\n",
    "import os\n",
    "\n",
    "path = \"Dataset/tree/images/train/\"\n",
    "img_list_path = os.listdir(path)\n",
    "img_list = [file for file in img_list_path if file.endswith(\".jpg\")]\n",
    "print(img_list)\n",
    "print(\"\\n\\n\")\n",
    "\n",
    "# from glob import glob # 파일 경로명까지 저장 => 폐기\n",
    "\n",
    "# img_list = glob('Hyundai_0811/images/train/*.jpg')\n",
    "# print(len(img_list))\n",
    "# print(img_list)\n",
    "\n",
    "\n",
    "#train test set 분리\n",
    "from sklearn.model_selection import train_test_split\n",
    "\n",
    "train_img_list, val_img_list = train_test_split(img_list, test_size=0.12, random_state=2000)\n",
    "\n",
    "print(len(train_img_list), len(val_img_list))\n",
    "print(\"\\n\\n\")\n",
    "\n",
    "# val에 넣고 train에 넣을까\n",
    "\n",
    "import shutil \n",
    "\n",
    "# img파일 train val으로 나누기\n",
    "for a in val_img_list: \n",
    "    filename = a\n",
    "    src = 'Dataset/tree/images/train/' \n",
    "    dir = 'Dataset/tree/images/val/' \n",
    "    shutil.move(src + filename, dir + filename)\n",
    "print(len(val_img_list),val_img_list)\n",
    "print(\"\\n\\n\")\n",
    "\n",
    "# 나뉜 img_val을 기준으로 labeling된 txt 파일  train val 으로 나누기\n",
    "val_txt_list=[]\n",
    "for a in val_img_list:\n",
    "    temp = a.replace(\"jpg\",\"txt\")\n",
    "    val_txt_list.append(temp)\n",
    "print(len(val_txt_list),val_txt_list)\n",
    "print(\"\\n\\n\")\n",
    "\n",
    "for a in val_txt_list: \n",
    "    filename = a\n",
    "    src = 'Dataset/tree/labels/train/' \n",
    "    dir = 'Dataset/tree/labels/val/' \n",
    "    shutil.move(src + filename, dir + filename)"
   ]
  },
  {
   "cell_type": "code",
   "execution_count": null,
   "id": "37c96730",
   "metadata": {},
   "outputs": [],
   "source": []
  },
  {
   "cell_type": "code",
   "execution_count": 13,
   "id": "195fa764",
   "metadata": {},
   "outputs": [
    {
     "name": "stdout",
     "output_type": "stream",
     "text": [
      "Requirement already satisfied: scikit-learn in c:\\python310\\lib\\site-packages (1.0.2)\n",
      "Requirement already satisfied: threadpoolctl>=2.0.0 in c:\\python310\\lib\\site-packages (from scikit-learn) (3.1.0)\n",
      "Requirement already satisfied: numpy>=1.14.6 in c:\\python310\\lib\\site-packages (from scikit-learn) (1.22.2)\n",
      "Requirement already satisfied: scipy>=1.1.0 in c:\\python310\\lib\\site-packages (from scikit-learn) (1.8.0)\n",
      "Requirement already satisfied: joblib>=0.11 in c:\\python310\\lib\\site-packages (from scikit-learn) (1.1.0)\n"
     ]
    },
    {
     "name": "stderr",
     "output_type": "stream",
     "text": [
      "WARNING: Ignoring invalid distribution -ip (c:\\python310\\lib\\site-packages)\n",
      "WARNING: Ignoring invalid distribution - (c:\\python310\\lib\\site-packages)\n",
      "WARNING: Ignoring invalid distribution -ip (c:\\python310\\lib\\site-packages)\n",
      "WARNING: Ignoring invalid distribution - (c:\\python310\\lib\\site-packages)\n",
      "WARNING: Ignoring invalid distribution -ip (c:\\python310\\lib\\site-packages)\n",
      "WARNING: Ignoring invalid distribution - (c:\\python310\\lib\\site-packages)\n",
      "WARNING: Ignoring invalid distribution -ip (c:\\python310\\lib\\site-packages)\n",
      "WARNING: Ignoring invalid distribution - (c:\\python310\\lib\\site-packages)\n",
      "WARNING: Ignoring invalid distribution -ip (c:\\python310\\lib\\site-packages)\n",
      "WARNING: Ignoring invalid distribution - (c:\\python310\\lib\\site-packages)\n"
     ]
    }
   ],
   "source": [
    "!pip install -U scikit-learn"
   ]
  },
  {
   "cell_type": "code",
   "execution_count": 1,
   "id": "2887bb29",
   "metadata": {},
   "outputs": [],
   "source": [
    "from sklearn.model_selection import train_test_split"
   ]
  },
  {
   "cell_type": "code",
   "execution_count": 3,
   "id": "a20794ad",
   "metadata": {},
   "outputs": [
    {
     "name": "stdout",
     "output_type": "stream",
     "text": [
      "1080 120\n"
     ]
    }
   ],
   "source": [
    "import os\n",
    "\n",
    "path = \"car/images/\"\n",
    "list_path = os.listdir(path)\n",
    "label_list = [file for file in list_path if file.endswith(\".txt\")]\n",
    "img_list = [file for file in list_path if file.endswith(\".jpg\")]\n",
    "\n",
    "\n",
    "from sklearn.model_selection import train_test_split\n",
    "\n",
    "train_img_list, val_img_list = train_test_split(img_list, test_size=0.1, random_state=2000)\n",
    "print(len(train_img_list), len(val_img_list))\n",
    "\n",
    "\n",
    "save_path = \"car/images/\"\n",
    "with open('train.txt','w',encoding='UTF-8') as f:\n",
    "    for name in train_img_list:\n",
    "        f.write(name+'\\n')\n",
    "        \n",
    "with open('valid.txt','w',encoding='UTF-8') as f:\n",
    "    for name in val_img_list:\n",
    "        f.write(name+'\\n')\n",
    "\n",
    "\n",
    "\n",
    "\n",
    "\n"
   ]
  },
  {
   "cell_type": "code",
   "execution_count": null,
   "id": "44d41a97",
   "metadata": {},
   "outputs": [],
   "source": []
  },
  {
   "cell_type": "code",
   "execution_count": null,
   "id": "68b615b9",
   "metadata": {},
   "outputs": [],
   "source": []
  },
  {
   "cell_type": "code",
   "execution_count": null,
   "id": "648e5c07",
   "metadata": {},
   "outputs": [],
   "source": []
  },
  {
   "cell_type": "code",
   "execution_count": null,
   "id": "59f03839",
   "metadata": {},
   "outputs": [],
   "source": []
  },
  {
   "cell_type": "code",
   "execution_count": null,
   "id": "d467435e",
   "metadata": {},
   "outputs": [],
   "source": []
  },
  {
   "cell_type": "code",
   "execution_count": null,
   "id": "f90dcd00",
   "metadata": {},
   "outputs": [],
   "source": []
  },
  {
   "cell_type": "code",
   "execution_count": null,
   "id": "dd2c5bd7",
   "metadata": {},
   "outputs": [],
   "source": []
  },
  {
   "cell_type": "code",
   "execution_count": null,
   "id": "db738c51",
   "metadata": {},
   "outputs": [],
   "source": []
  },
  {
   "cell_type": "code",
   "execution_count": null,
   "id": "d8591d68",
   "metadata": {},
   "outputs": [],
   "source": []
  },
  {
   "cell_type": "code",
   "execution_count": null,
   "id": "3894494a",
   "metadata": {},
   "outputs": [],
   "source": []
  },
  {
   "cell_type": "code",
   "execution_count": null,
   "id": "aa258222",
   "metadata": {},
   "outputs": [],
   "source": []
  },
  {
   "cell_type": "code",
   "execution_count": null,
   "id": "f0a7f19f",
   "metadata": {},
   "outputs": [],
   "source": []
  },
  {
   "cell_type": "code",
   "execution_count": null,
   "id": "acf6724e",
   "metadata": {},
   "outputs": [],
   "source": []
  },
  {
   "cell_type": "code",
   "execution_count": null,
   "id": "39c8cfe9",
   "metadata": {},
   "outputs": [],
   "source": []
  }
 ],
 "metadata": {
  "kernelspec": {
   "display_name": "Python 3",
   "language": "python",
   "name": "python3"
  },
  "language_info": {
   "codemirror_mode": {
    "name": "ipython",
    "version": 3
   },
   "file_extension": ".py",
   "mimetype": "text/x-python",
   "name": "python",
   "nbconvert_exporter": "python",
   "pygments_lexer": "ipython3",
   "version": "3.8.8"
  }
 },
 "nbformat": 4,
 "nbformat_minor": 5
}
