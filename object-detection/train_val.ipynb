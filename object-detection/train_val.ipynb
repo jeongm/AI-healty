{
 "cells": [
  {
   "cell_type": "code",
   "execution_count": 5,
   "id": "1324f61d",
   "metadata": {},
   "outputs": [
    {
     "name": "stdout",
     "output_type": "stream",
     "text": [
      "['1.jpg', '10.jpg', '100.jpg', '101.jpg', '102.jpg', '103.jpg', '104.jpg', '105.jpg', '106.jpg', '107.jpg', '108.jpg', '109.jpg', '11.jpg', '110.jpg', '111.jpg', '112.jpg', '12.jpg', '13.jpg', '14.jpg', '15.jpg', '16.jpg', '17.jpg', '18.jpg', '19.jpg', '2.jpg', '20.jpg', '21.jpg', '22.jpg', '23.jpg', '24.jpg', '25.jpg', '26.jpg', '27.jpg', '28.jpg', '29.jpg', '3.jpg', '30.jpg', '31.jpg', '32.jpg', '33.jpg', '34.jpg', '35.jpg', '36.jpg', '37.jpg', '38.jpg', '39.jpg', '4.jpg', '40.jpg', '41.jpg', '42.jpg', '43.jpg', '44.jpg', '45.jpg', '46.jpg', '47.jpg', '48.jpg', '49.jpg', '5.jpg', '50.jpg', '51.jpg', '52.jpg', '53.jpg', '54.jpg', '55.jpg', '56.jpg', '57.jpg', '58.jpg', '59.jpg', '6.jpg', '60.jpg', '61.jpg', '62.jpg', '63.jpg', '64.jpg', '65.jpg', '66.jpg', '67.jpg', '68.jpg', '69.jpg', '7.jpg', '70.jpg', '71.jpg', '72.jpg', '73.jpg', '74.jpg', '75.jpg', '76.jpg', '77.jpg', '78.jpg', '79.jpg', '8.jpg', '80.jpg', '81.jpg', '82.jpg', '83.jpg', '84.jpg', '85.jpg', '86.jpg', '87.jpg', '88.jpg', '89.jpg', '9.jpg', '90.jpg', '91.jpg', '92.jpg', '93.jpg', '94.jpg', '95.jpg', '96.jpg', '97.jpg', '98.jpg', '99.jpg']\n",
      "\n",
      "\n",
      "\n",
      "89 23\n",
      "\n",
      "\n",
      "\n",
      "23 ['20.jpg', '67.jpg', '60.jpg', '96.jpg', '13.jpg', '77.jpg', '101.jpg', '49.jpg', '6.jpg', '24.jpg', '65.jpg', '83.jpg', '57.jpg', '76.jpg', '25.jpg', '14.jpg', '5.jpg', '15.jpg', '8.jpg', '90.jpg', '75.jpg', '52.jpg', '41.jpg']\n",
      "\n",
      "\n",
      "\n",
      "23 ['20.txt', '67.txt', '60.txt', '96.txt', '13.txt', '77.txt', '101.txt', '49.txt', '6.txt', '24.txt', '65.txt', '83.txt', '57.txt', '76.txt', '25.txt', '14.txt', '5.txt', '15.txt', '8.txt', '90.txt', '75.txt', '52.txt', '41.txt']\n",
      "\n",
      "\n",
      "\n"
     ]
    }
   ],
   "source": [
    "#train test set 분리\n",
    "\n",
    "import os\n",
    "\n",
    "path = \"dataset/images/train/\"\n",
    "img_list_path = os.listdir(path)\n",
    "img_list = [file for file in img_list_path if file.endswith(\".jpg\")]\n",
    "print(img_list)\n",
    "print(\"\\n\\n\")\n",
    "\n",
    "\n",
    "#train test set 분리\n",
    "from sklearn.model_selection import train_test_split\n",
    "\n",
    "train_img_list, val_img_list = train_test_split(img_list, test_size=0.2, random_state=2000)\n",
    "\n",
    "print(len(train_img_list), len(val_img_list))\n",
    "print(\"\\n\\n\")\n",
    "\n",
    "# val에 넣고 train에 넣을까\n",
    "\n",
    "import shutil \n",
    "\n",
    "# img파일 train val으로 나누기\n",
    "for a in val_img_list: \n",
    "    filename = a\n",
    "    src = 'dataset/images/train/' \n",
    "    dir = 'dataset/images/val/' \n",
    "    shutil.move(src + filename, dir + filename)\n",
    "print(len(val_img_list),val_img_list)\n",
    "print(\"\\n\\n\")\n",
    "\n",
    "# 나뉜 img_val을 기준으로 labeling된 txt 파일  train val 으로 나누기\n",
    "val_txt_list=[]\n",
    "for a in val_img_list:\n",
    "    temp = a.replace(\"jpg\",\"txt\")\n",
    "    val_txt_list.append(temp)\n",
    "print(len(val_txt_list),val_txt_list)\n",
    "print(\"\\n\\n\")\n",
    "\n",
    "for a in val_txt_list: \n",
    "    filename = a\n",
    "    src = 'dataset/labels/train/' \n",
    "    dir = 'dataset/labels/val/' \n",
    "    shutil.move(src + filename, dir + filename)"
   ]
  },
  {
   "cell_type": "code",
   "execution_count": 4,
   "id": "3aef23bb",
   "metadata": {
    "scrolled": false
   },
   "outputs": [
    {
     "name": "stdout",
     "output_type": "stream",
     "text": [
      "Collecting split-folders\n",
      "  Using cached split_folders-0.5.1-py3-none-any.whl (8.4 kB)\n",
      "Requirement already satisfied: tqdm in c:\\python310\\lib\\site-packages (4.62.3)\n",
      "Requirement already satisfied: colorama in c:\\python310\\lib\\site-packages (from tqdm) (0.4.4)\n",
      "Installing collected packages: split-folders\n"
     ]
    },
    {
     "name": "stderr",
     "output_type": "stream",
     "text": [
      "  WARNING: Failed to write executable - trying to use .deleteme logic\n",
      "ERROR: Could not install packages due to an OSError: [WinError 2] 지정된 파일을 찾을 수 없습니다: 'C:\\\\Python310\\\\Scripts\\\\split-folders.exe' -> 'C:\\\\Python310\\\\Scripts\\\\split-folders.exe.deleteme'\n",
      "\n",
      "WARNING: You are using pip version 21.2.3; however, version 22.0.3 is available.\n",
      "You should consider upgrading via the 'C:\\Python310\\python.exe -m pip install --upgrade pip' command.\n"
     ]
    }
   ],
   "source": [
    "# train_val 나누기\n",
    "!pip install split-folders tqdm"
   ]
  }
 ],
 "metadata": {
  "kernelspec": {
   "display_name": "Python 3",
   "language": "python",
   "name": "python3"
  },
  "language_info": {
   "codemirror_mode": {
    "name": "ipython",
    "version": 3
   },
   "file_extension": ".py",
   "mimetype": "text/x-python",
   "name": "python",
   "nbconvert_exporter": "python",
   "pygments_lexer": "ipython3",
   "version": "3.8.8"
  }
 },
 "nbformat": 4,
 "nbformat_minor": 5
}
