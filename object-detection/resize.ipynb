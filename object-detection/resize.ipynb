{
 "cells": [
  {
   "cell_type": "code",
   "execution_count": null,
   "id": "b964558b",
   "metadata": {},
   "outputs": [],
   "source": [
    "import cv2\n",
    "print(cv2.__version__)"
   ]
  },
  {
   "cell_type": "code",
   "execution_count": null,
   "id": "c2e6caec",
   "metadata": {},
   "outputs": [],
   "source": [
    "import numpy as np\n",
    "import os\n",
    "from os import listdir\n",
    "import cv2 as cv\n",
    "import glob\n",
    "\n",
    "class data_resize():\n",
    "    \n",
    "    def __init__(self):\n",
    "        path = os.getcwd()\n",
    "        self.images_path = glob.glob('dataset/images/train/')[0]\n",
    "        self.labels_path = glob.glob('dataset/labels/train/')[0]\n",
    "\n",
    "    def resize(self, dsize):\n",
    "        src = cv.imread(self.images_path+file)\n",
    "        dst = cv.resize(src, dsize, interpolation=cv.INTER_LINEAR)\n",
    "        cv.imwrite(self.images_path + file, dst)\n",
    "        "
   ]
  },
  {
   "cell_type": "code",
   "execution_count": null,
   "id": "61b5e398",
   "metadata": {},
   "outputs": [],
   "source": [
    "# 데이터(이미지) 크기 줄이기\n",
    "\n",
    "if __name__ == \"__main__\":\n",
    "    da = data_resize()\n",
    "    \n",
    "    #크기 지정 데이터 사이즈 줄이고 싶을 때\n",
    "    a = 618\n",
    "    b = 412\n",
    "\n",
    "    for file in listdir(da.images_path):\n",
    "        src = cv.imread(da.images_path+file)\n",
    "\n",
    "        labelfile = file.replace('.jpg', '.txt')\n",
    "        labelname = file.replace('.jpg', '')\n",
    "    \n",
    "        label = open(da.labels_path + labelfile, 'r')\n",
    "        list = label.readline()\n",
    "        \n",
    "        da.resize(dsize=(a,b))        "
   ]
  }
 ],
 "metadata": {
  "kernelspec": {
   "display_name": "Python 3",
   "language": "python",
   "name": "python3"
  },
  "language_info": {
   "codemirror_mode": {
    "name": "ipython",
    "version": 3
   },
   "file_extension": ".py",
   "mimetype": "text/x-python",
   "name": "python",
   "nbconvert_exporter": "python",
   "pygments_lexer": "ipython3",
   "version": "3.8.8"
  }
 },
 "nbformat": 4,
 "nbformat_minor": 5
}
