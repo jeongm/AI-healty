{
 "cells": [
  {
   "cell_type": "code",
   "execution_count": 4,
   "id": "53d3e626",
   "metadata": {},
   "outputs": [],
   "source": [
    "# 파일 이름 변경\n",
    "\n",
    "import os\n",
    "import glob\n",
    "\n",
    "files = glob.glob(\"dataset/images/train/*.jpg\") # 원하는 디렉토리 설정\n",
    "cnt = 0\n",
    "for name in files:\n",
    "    cnt = cnt + 1\n",
    "    if not os.path.isdir(name): # 디렉토리는 포함x\n",
    "        #src = os.path.splitext(name) # 확장자와 파일명 구분\n",
    "        os.rename(name,str(cnt) + '.jpg') # JPG를 없앤 파일명에 jpg확장자 붙이기"
   ]
  },
  {
   "cell_type": "code",
   "execution_count": null,
   "id": "ed8b5dd4",
   "metadata": {},
   "outputs": [],
   "source": [
    "# 파일 확장자 변경\n",
    "\n",
    "import os\n",
    "import glob\n",
    "\n",
    "files = glob.glob(\"dataset/images/train/*.JPG\") # 원하는 디렉토리 설정\n",
    "for name in files:\n",
    "    if not os.path.isdir(name): # 디렉토리는 포함x\n",
    "        src = os.path.splitext(name) # 확장자와 파일명 구분\n",
    "        os.rename(name,src[0] + '.jpg') # JPG를 없앤 파일명에 jpg확장자 붙이기"
   ]
  }
 ],
 "metadata": {
  "kernelspec": {
   "display_name": "Python 3",
   "language": "python",
   "name": "python3"
  },
  "language_info": {
   "codemirror_mode": {
    "name": "ipython",
    "version": 3
   },
   "file_extension": ".py",
   "mimetype": "text/x-python",
   "name": "python",
   "nbconvert_exporter": "python",
   "pygments_lexer": "ipython3",
   "version": "3.8.8"
  }
 },
 "nbformat": 4,
 "nbformat_minor": 5
}
