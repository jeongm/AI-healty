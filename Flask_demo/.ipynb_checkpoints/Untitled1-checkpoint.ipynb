{
 "cells": [
  {
   "cell_type": "code",
   "execution_count": null,
   "id": "8cc85f4c",
   "metadata": {},
   "outputs": [],
   "source": []
  },
  {
   "cell_type": "code",
   "execution_count": null,
   "id": "bb3167a8",
   "metadata": {},
   "outputs": [],
   "source": []
  },
  {
   "cell_type": "code",
   "execution_count": null,
   "id": "ed385dde",
   "metadata": {},
   "outputs": [],
   "source": []
  },
  {
   "cell_type": "code",
   "execution_count": null,
   "id": "7eeef76d",
   "metadata": {},
   "outputs": [],
   "source": []
  },
  {
   "cell_type": "code",
   "execution_count": 20,
   "id": "12e093c6",
   "metadata": {},
   "outputs": [],
   "source": [
    "data_records = [{\"xmin\":104.2898788452,\"ymin\":1206.0611572266,\"xmax\":625.9426269531,\"ymax\":1475.1000976562,\"confidence\":0.9130751491,\"class\":16,\"name\":\"dog\"},{\"xmin\":834.5873413086,\"ymin\":726.6124267578,\"xmax\":1241.7209472656,\"ymax\":1644.1550292969,\"confidence\":0.8895811439,\"class\":0,\"name\":\"person\"}]"
   ]
  },
  {
   "cell_type": "code",
   "execution_count": null,
   "id": "e9ff16f8",
   "metadata": {},
   "outputs": [],
   "source": []
  },
  {
   "cell_type": "code",
   "execution_count": null,
   "id": "453419c6",
   "metadata": {},
   "outputs": [],
   "source": []
  },
  {
   "cell_type": "code",
   "execution_count": null,
   "id": "9d486fe0",
   "metadata": {},
   "outputs": [],
   "source": []
  },
  {
   "cell_type": "code",
   "execution_count": null,
   "id": "8138c091",
   "metadata": {},
   "outputs": [],
   "source": []
  },
  {
   "cell_type": "code",
   "execution_count": 2,
   "id": "9a75f748",
   "metadata": {},
   "outputs": [
    {
     "data": {
      "text/plain": [
       "[{'xmin': 104.2898788452,\n",
       "  'ymin': 1206.0611572266,\n",
       "  'xmax': 625.9426269531,\n",
       "  'ymax': 1475.1000976562,\n",
       "  'confidence': 0.9130751491,\n",
       "  'class': 16,\n",
       "  'name': 'dog'},\n",
       " {'xmin': 834.5873413086,\n",
       "  'ymin': 726.6124267578,\n",
       "  'xmax': 1241.7209472656,\n",
       "  'ymax': 1644.1550292969,\n",
       "  'confidence': 0.8895811439,\n",
       "  'class': 0,\n",
       "  'name': 'person'}]"
      ]
     },
     "execution_count": 2,
     "metadata": {},
     "output_type": "execute_result"
    }
   ],
   "source": [
    "data_records"
   ]
  },
  {
   "cell_type": "code",
   "execution_count": 3,
   "id": "16a80d76",
   "metadata": {},
   "outputs": [
    {
     "data": {
      "text/plain": [
       "list"
      ]
     },
     "execution_count": 3,
     "metadata": {},
     "output_type": "execute_result"
    }
   ],
   "source": [
    "type(data)"
   ]
  },
  {
   "cell_type": "code",
   "execution_count": 4,
   "id": "40134bff",
   "metadata": {},
   "outputs": [
    {
     "data": {
      "text/plain": [
       "dict"
      ]
     },
     "execution_count": 4,
     "metadata": {},
     "output_type": "execute_result"
    }
   ],
   "source": [
    "type(data[0])"
   ]
  },
  {
   "cell_type": "code",
   "execution_count": 5,
   "id": "6307c69d",
   "metadata": {
    "scrolled": true
   },
   "outputs": [
    {
     "data": {
      "text/plain": [
       "'dog'"
      ]
     },
     "execution_count": 5,
     "metadata": {},
     "output_type": "execute_result"
    }
   ],
   "source": [
    "data[0]['name']"
   ]
  },
  {
   "cell_type": "code",
   "execution_count": 21,
   "id": "eea3e4ee",
   "metadata": {},
   "outputs": [
    {
     "ename": "AttributeError",
     "evalue": "'list' object has no attribute 'values'",
     "output_type": "error",
     "traceback": [
      "\u001b[1;31m---------------------------------------------------------------------------\u001b[0m",
      "\u001b[1;31mAttributeError\u001b[0m                            Traceback (most recent call last)",
      "Input \u001b[1;32mIn [21]\u001b[0m, in \u001b[0;36m<cell line: 2>\u001b[1;34m()\u001b[0m\n\u001b[0;32m      1\u001b[0m data_name \u001b[38;5;241m=\u001b[39m[]\n\u001b[1;32m----> 2\u001b[0m data_name \u001b[38;5;241m=\u001b[39m \u001b[43mdata_records\u001b[49m\u001b[38;5;241;43m.\u001b[39;49m\u001b[43mvalues\u001b[49m()\n",
      "\u001b[1;31mAttributeError\u001b[0m: 'list' object has no attribute 'values'"
     ]
    }
   ],
   "source": [
    "data_name =[]\n",
    "for dn in data_records:\n",
    "    data_name = data_records.values()"
   ]
  },
  {
   "cell_type": "code",
   "execution_count": 9,
   "id": "124198cd",
   "metadata": {},
   "outputs": [],
   "source": [
    "data_name=[]\n",
    "for n in data:\n",
    "    data_name.append(n['name'])"
   ]
  },
  {
   "cell_type": "code",
   "execution_count": 10,
   "id": "f7519a7d",
   "metadata": {},
   "outputs": [
    {
     "data": {
      "text/plain": [
       "['dog', 'person']"
      ]
     },
     "execution_count": 10,
     "metadata": {},
     "output_type": "execute_result"
    }
   ],
   "source": [
    "data_name"
   ]
  },
  {
   "cell_type": "code",
   "execution_count": 12,
   "id": "c10d5a3f",
   "metadata": {},
   "outputs": [
    {
     "ename": "TypeError",
     "evalue": "the JSON object must be str, bytes or bytearray, not list",
     "output_type": "error",
     "traceback": [
      "\u001b[1;31m---------------------------------------------------------------------------\u001b[0m",
      "\u001b[1;31mTypeError\u001b[0m                                 Traceback (most recent call last)",
      "Input \u001b[1;32mIn [12]\u001b[0m, in \u001b[0;36m<cell line: 3>\u001b[1;34m()\u001b[0m\n\u001b[0;32m      1\u001b[0m \u001b[38;5;28;01mimport\u001b[39;00m \u001b[38;5;21;01mjson\u001b[39;00m\n\u001b[1;32m----> 3\u001b[0m data_class \u001b[38;5;241m=\u001b[39m [ e[\u001b[38;5;124m\"\u001b[39m\u001b[38;5;124mname\u001b[39m\u001b[38;5;124m\"\u001b[39m] \u001b[38;5;28;01mfor\u001b[39;00m e \u001b[38;5;129;01min\u001b[39;00m \u001b[43mjson\u001b[49m\u001b[38;5;241;43m.\u001b[39;49m\u001b[43mloads\u001b[49m\u001b[43m(\u001b[49m\u001b[43mdata\u001b[49m\u001b[43m)\u001b[49m ]\n",
      "File \u001b[1;32mC:\\ProgramData\\Anaconda3\\lib\\json\\__init__.py:339\u001b[0m, in \u001b[0;36mloads\u001b[1;34m(s, cls, object_hook, parse_float, parse_int, parse_constant, object_pairs_hook, **kw)\u001b[0m\n\u001b[0;32m    337\u001b[0m \u001b[38;5;28;01melse\u001b[39;00m:\n\u001b[0;32m    338\u001b[0m     \u001b[38;5;28;01mif\u001b[39;00m \u001b[38;5;129;01mnot\u001b[39;00m \u001b[38;5;28misinstance\u001b[39m(s, (\u001b[38;5;28mbytes\u001b[39m, \u001b[38;5;28mbytearray\u001b[39m)):\n\u001b[1;32m--> 339\u001b[0m         \u001b[38;5;28;01mraise\u001b[39;00m \u001b[38;5;167;01mTypeError\u001b[39;00m(\u001b[38;5;124mf\u001b[39m\u001b[38;5;124m'\u001b[39m\u001b[38;5;124mthe JSON object must be str, bytes or bytearray, \u001b[39m\u001b[38;5;124m'\u001b[39m\n\u001b[0;32m    340\u001b[0m                         \u001b[38;5;124mf\u001b[39m\u001b[38;5;124m'\u001b[39m\u001b[38;5;124mnot \u001b[39m\u001b[38;5;132;01m{\u001b[39;00ms\u001b[38;5;241m.\u001b[39m\u001b[38;5;18m__class__\u001b[39m\u001b[38;5;241m.\u001b[39m\u001b[38;5;18m__name__\u001b[39m\u001b[38;5;132;01m}\u001b[39;00m\u001b[38;5;124m'\u001b[39m)\n\u001b[0;32m    341\u001b[0m     s \u001b[38;5;241m=\u001b[39m s\u001b[38;5;241m.\u001b[39mdecode(detect_encoding(s), \u001b[38;5;124m'\u001b[39m\u001b[38;5;124msurrogatepass\u001b[39m\u001b[38;5;124m'\u001b[39m)\n\u001b[0;32m    343\u001b[0m \u001b[38;5;28;01mif\u001b[39;00m (\u001b[38;5;28mcls\u001b[39m \u001b[38;5;129;01mis\u001b[39;00m \u001b[38;5;28;01mNone\u001b[39;00m \u001b[38;5;129;01mand\u001b[39;00m object_hook \u001b[38;5;129;01mis\u001b[39;00m \u001b[38;5;28;01mNone\u001b[39;00m \u001b[38;5;129;01mand\u001b[39;00m\n\u001b[0;32m    344\u001b[0m         parse_int \u001b[38;5;129;01mis\u001b[39;00m \u001b[38;5;28;01mNone\u001b[39;00m \u001b[38;5;129;01mand\u001b[39;00m parse_float \u001b[38;5;129;01mis\u001b[39;00m \u001b[38;5;28;01mNone\u001b[39;00m \u001b[38;5;129;01mand\u001b[39;00m\n\u001b[0;32m    345\u001b[0m         parse_constant \u001b[38;5;129;01mis\u001b[39;00m \u001b[38;5;28;01mNone\u001b[39;00m \u001b[38;5;129;01mand\u001b[39;00m object_pairs_hook \u001b[38;5;129;01mis\u001b[39;00m \u001b[38;5;28;01mNone\u001b[39;00m \u001b[38;5;129;01mand\u001b[39;00m \u001b[38;5;129;01mnot\u001b[39;00m kw):\n",
      "\u001b[1;31mTypeError\u001b[0m: the JSON object must be str, bytes or bytearray, not list"
     ]
    }
   ],
   "source": [
    "import json\n",
    "\n",
    "data_class = [ e[\"name\"] for e in json.loads(data) ]"
   ]
  },
  {
   "cell_type": "code",
   "execution_count": 22,
   "id": "5f6bf663",
   "metadata": {},
   "outputs": [],
   "source": [
    "data_columns = {\"xmin\":{\"0\":104.2898788452,\"1\":834.5873413086},\"ymin\":{\"0\":1206.0611572266,\"1\":726.6124267578},\"xmax\":{\"0\":625.9426269531,\"1\":1241.7209472656},\"ymax\":{\"0\":1475.1000976562,\"1\":1644.1550292969},\"confidence\":{\"0\":0.9130751491,\"1\":0.8895811439},\"class\":{\"0\":16,\"1\":0},\"name\":{\"0\":\"dog\",\"1\":\"person\"}}"
   ]
  },
  {
   "cell_type": "code",
   "execution_count": 23,
   "id": "7357baaa",
   "metadata": {},
   "outputs": [
    {
     "data": {
      "text/plain": [
       "dict"
      ]
     },
     "execution_count": 23,
     "metadata": {},
     "output_type": "execute_result"
    }
   ],
   "source": [
    "type(data_columns)\n",
    "json_data = json.loads(data_columns)"
   ]
  },
  {
   "cell_type": "code",
   "execution_count": 24,
   "id": "4b6f1c65",
   "metadata": {},
   "outputs": [],
   "source": [
    "data_name = []"
   ]
  },
  {
   "cell_type": "code",
   "execution_count": 41,
   "id": "89dc5088",
   "metadata": {},
   "outputs": [],
   "source": [
    "data_values = data_columns.values()"
   ]
  },
  {
   "cell_type": "code",
   "execution_count": 42,
   "id": "8ace7a4e",
   "metadata": {},
   "outputs": [],
   "source": [
    "data_name = list(data_values)"
   ]
  },
  {
   "cell_type": "code",
   "execution_count": 43,
   "id": "44599e41",
   "metadata": {},
   "outputs": [
    {
     "data": {
      "text/plain": [
       "list"
      ]
     },
     "execution_count": 43,
     "metadata": {},
     "output_type": "execute_result"
    }
   ],
   "source": [
    "type(data_name)"
   ]
  },
  {
   "cell_type": "code",
   "execution_count": 44,
   "id": "9932304c",
   "metadata": {},
   "outputs": [
    {
     "data": {
      "text/plain": [
       "[{'0': 104.2898788452, '1': 834.5873413086},\n",
       " {'0': 1206.0611572266, '1': 726.6124267578},\n",
       " {'0': 625.9426269531, '1': 1241.7209472656},\n",
       " {'0': 1475.1000976562, '1': 1644.1550292969},\n",
       " {'0': 0.9130751491, '1': 0.8895811439},\n",
       " {'0': 16, '1': 0},\n",
       " {'0': 'dog', '1': 'person'}]"
      ]
     },
     "execution_count": 44,
     "metadata": {},
     "output_type": "execute_result"
    }
   ],
   "source": [
    "data_name"
   ]
  },
  {
   "cell_type": "code",
   "execution_count": null,
   "id": "cd30e267",
   "metadata": {},
   "outputs": [],
   "source": []
  }
 ],
 "metadata": {
  "kernelspec": {
   "display_name": "Python 3 (ipykernel)",
   "language": "python",
   "name": "python3"
  },
  "language_info": {
   "codemirror_mode": {
    "name": "ipython",
    "version": 3
   },
   "file_extension": ".py",
   "mimetype": "text/x-python",
   "name": "python",
   "nbconvert_exporter": "python",
   "pygments_lexer": "ipython3",
   "version": "3.9.12"
  }
 },
 "nbformat": 4,
 "nbformat_minor": 5
}
