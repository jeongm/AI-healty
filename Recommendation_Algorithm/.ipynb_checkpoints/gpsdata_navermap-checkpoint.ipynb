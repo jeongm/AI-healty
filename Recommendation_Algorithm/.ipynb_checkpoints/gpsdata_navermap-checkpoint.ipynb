{
 "cells": [
  {
   "cell_type": "markdown",
   "id": "3b762721",
   "metadata": {},
   "source": [
    "$GPGGA,114455.532,3735.0079,N,12701.6446,E,1,03,7.9,48.8,M,19.6,M,0.0,0000*48"
   ]
  },
  {
   "cell_type": "code",
   "execution_count": 29,
   "id": "6c3b0700",
   "metadata": {},
   "outputs": [],
   "source": [
    "gpsData = '$GPGGA,114455.532,3510.775,N,12833.350,E,1,03,7.9,48.8,M,19.6,M,0.0,0000*48'"
   ]
  },
  {
   "cell_type": "code",
   "execution_count": 30,
   "id": "c8ab76a7",
   "metadata": {},
   "outputs": [
    {
     "data": {
      "text/plain": [
       "'$GPGGA,114455.532,3510.775,N,12833.350,E,1,03,7.9,48.8,M,19.6,M,0.0,0000*48'"
      ]
     },
     "execution_count": 30,
     "metadata": {},
     "output_type": "execute_result"
    }
   ],
   "source": [
    "gpsData"
   ]
  },
  {
   "cell_type": "code",
   "execution_count": 31,
   "id": "74d5613a",
   "metadata": {},
   "outputs": [
    {
     "data": {
      "text/plain": [
       "['$GPGGA',\n",
       " '114455.532',\n",
       " '3510.775',\n",
       " 'N',\n",
       " '12833.350',\n",
       " 'E',\n",
       " '1',\n",
       " '03',\n",
       " '7.9',\n",
       " '48.8',\n",
       " 'M',\n",
       " '19.6',\n",
       " 'M',\n",
       " '0.0',\n",
       " '0000*48']"
      ]
     },
     "execution_count": 31,
     "metadata": {},
     "output_type": "execute_result"
    }
   ],
   "source": [
    "gpsData.split(',')"
   ]
  },
  {
   "cell_type": "markdown",
   "id": "35ebbd70",
   "metadata": {},
   "source": [
    "- 114455.532는 시간으로서 Zulu time (그리니치 표준시) 기준으로 11시 44분 55.532초를 뜻한다.\n",
    "- 3510.775는 위도로서 35도 10.775분을 뜻한다. 도(degree) 단위로 환산시, 10.775/60 = 0.1795833 대략 35.179도가 된다.\n",
    "- 뒤의 N은 북위를 뜻한다. 적도 남쪽에 있다면 S가 된다.\n",
    "- 12833.350은 경도로서 128도 33.350분을 뜻한다. 도(degree) 단위로 환산시, 33.350/60 = 0.5558333 대략 128.555도가 된다.\n",
    "- 뒤의 E는 동경을 뜻한다. W가 되면 서경이 된다.\n",
    "- '1'은 Fix의 종류를 뜻한다. 이 자리의 숫자에 따른 뜻은 다음과 같다.\n",
    "    0 : Invalid 잘못된 데이터. 주로 위성이 안 잡힐 경우.\n",
    "    1 : GPS에서 제공하는 기본 위성을 가지고만 계산할 경우.\n",
    "    2 : DGPS를 이용하여 보정하여 계산할 경우\n",
    "    DGPS를 이용할 경우 더욱 정확한 측정이 가능해진다. DGPS는 지구의 지표의 위치가 명확히 알려진 곳에 기지국을 설치하거나 또 다른 위성(NAVSTAR GPS위성이 아닌 타 위성)이 GPS송출 신호를 내보내어 보정하도록 하는 방법이다. 보통 15M정도의 오차를 가지는 GPS가 DGPS로 보정할 경우 5M로 오차가 줄어들게 된다.\n",
    "- '03'은 계산에 사용한 위성을 개수를 나타낸다. 위치를 알기 위해서 최소3개 이상의 신호를 받아야 한다.\n",
    "- '7.9'는 horizontal dilution of Precision으로 2차원적 오차결정(수평방향)을 뜻한다.\n",
    "- '48.8M'는 해수면 기준 고도(해발)이다.\n",
    "- '19.6M'는 지오이드고(geoid height)이다\n",
    "- '0.0'과 '0000'은 DGPS 사용시 마지막으로 update한 시간과 DGPS 기지국의 ID이다.\n",
    "- '48'은 Check Sum이다."
   ]
  },
  {
   "cell_type": "code",
   "execution_count": 32,
   "id": "eba2c2c5",
   "metadata": {},
   "outputs": [],
   "source": [
    "gps_SplitData = gpsData.split(',')"
   ]
  },
  {
   "cell_type": "code",
   "execution_count": 33,
   "id": "6d34d0d0",
   "metadata": {},
   "outputs": [
    {
     "data": {
      "text/plain": [
       "['$GPGGA',\n",
       " '114455.532',\n",
       " '3510.775',\n",
       " 'N',\n",
       " '12833.350',\n",
       " 'E',\n",
       " '1',\n",
       " '03',\n",
       " '7.9',\n",
       " '48.8',\n",
       " 'M',\n",
       " '19.6',\n",
       " 'M',\n",
       " '0.0',\n",
       " '0000*48']"
      ]
     },
     "execution_count": 33,
     "metadata": {},
     "output_type": "execute_result"
    }
   ],
   "source": [
    "gps_SplitData"
   ]
  },
  {
   "cell_type": "code",
   "execution_count": 34,
   "id": "c5a41e29",
   "metadata": {},
   "outputs": [
    {
     "data": {
      "text/plain": [
       "['3510.775', 'N', '12833.350', 'E']"
      ]
     },
     "execution_count": 34,
     "metadata": {},
     "output_type": "execute_result"
    }
   ],
   "source": [
    "gps_SplitData[2:6]"
   ]
  },
  {
   "cell_type": "markdown",
   "id": "bf3d0c5e",
   "metadata": {},
   "source": [
    "- 시간 변환 공식\n",
    "    위도의 경우 ddmm.ssss\n",
    "    경도의 경우 dddmm.ssss 경우가 일반적\n",
    "    dd+(mm/60)+(0.ssss*60/3600) = dd+(mm/60)+(0.ssss/60)\n",
    "- 따라서 최종 변환 공식은 다음과 같다.\n",
    "### dd+(mm.ssss/60)"
   ]
  },
  {
   "cell_type": "code",
   "execution_count": 35,
   "id": "cc41bb75",
   "metadata": {},
   "outputs": [],
   "source": [
    "Lati = gps_SplitData[2]\n",
    "Longi = gps_SplitData[4]"
   ]
  },
  {
   "cell_type": "code",
   "execution_count": 36,
   "id": "bb943d2d",
   "metadata": {},
   "outputs": [
    {
     "data": {
      "text/plain": [
       "'3510.775'"
      ]
     },
     "execution_count": 36,
     "metadata": {},
     "output_type": "execute_result"
    }
   ],
   "source": [
    "Lati"
   ]
  },
  {
   "cell_type": "code",
   "execution_count": 37,
   "id": "90622c84",
   "metadata": {},
   "outputs": [
    {
     "data": {
      "text/plain": [
       "str"
      ]
     },
     "execution_count": 37,
     "metadata": {},
     "output_type": "execute_result"
    }
   ],
   "source": [
    "type(Lati)"
   ]
  },
  {
   "cell_type": "code",
   "execution_count": 38,
   "id": "f56105ac",
   "metadata": {},
   "outputs": [],
   "source": [
    "Latitude = float(Lati[:2]) + float(Lati[2:])/60"
   ]
  },
  {
   "cell_type": "code",
   "execution_count": 39,
   "id": "0a3bb998",
   "metadata": {},
   "outputs": [
    {
     "data": {
      "text/plain": [
       "35.17958333333333"
      ]
     },
     "execution_count": 39,
     "metadata": {},
     "output_type": "execute_result"
    }
   ],
   "source": [
    "Latitude"
   ]
  },
  {
   "cell_type": "code",
   "execution_count": 40,
   "id": "fbc02f6e",
   "metadata": {},
   "outputs": [
    {
     "data": {
      "text/plain": [
       "128.55583333333334"
      ]
     },
     "execution_count": 40,
     "metadata": {},
     "output_type": "execute_result"
    }
   ],
   "source": [
    "Longitude = float(Longi[:3]) + float(Longi[3:])/60\n",
    "Longitude"
   ]
  },
  {
   "cell_type": "markdown",
   "id": "413b1c92",
   "metadata": {},
   "source": [
    "35.17958 128.55583"
   ]
  },
  {
   "cell_type": "code",
   "execution_count": 48,
   "id": "4c1251e4",
   "metadata": {},
   "outputs": [],
   "source": [
    "key = str(Latitude) + ' ' + str(Longitude)"
   ]
  },
  {
   "cell_type": "code",
   "execution_count": 49,
   "id": "51925494",
   "metadata": {},
   "outputs": [
    {
     "data": {
      "text/plain": [
       "'35.17958333333333 128.55583333333334'"
      ]
     },
     "execution_count": 49,
     "metadata": {},
     "output_type": "execute_result"
    }
   ],
   "source": [
    "key"
   ]
  },
  {
   "cell_type": "code",
   "execution_count": null,
   "id": "2eaef1a8",
   "metadata": {},
   "outputs": [],
   "source": [
    "https://map.naver.com/"
   ]
  },
  {
   "cell_type": "code",
   "execution_count": 66,
   "id": "8d441b46",
   "metadata": {},
   "outputs": [],
   "source": [
    "from selenium import webdriver\n",
    "from selenium.webdriver.common.keys import Keys\n",
    "import time \n",
    "\n",
    "chromedriver = 'C:\\Temp\\chromedriver_win32\\chromedriver.exe'\n",
    "\n",
    "driver = webdriver.Chrome(chromedriver)\n",
    "driver.get('https://map.naver.com/')\n",
    "time.sleep(2)\n",
    "\n",
    "search_box = driver.find_element_by_css_selector(\"div.input_box>input.input_search\")\n",
    "search_box.send_keys(key)\n",
    "search_box.send_keys(Keys.ENTER)\n",
    "time.sleep(2)\n",
    "\n",
    "driver.find_element_by_css_selector(\"#container > div > maps-controller > dynamic-content-outlet.control_widget.ng-star-inserted > control-widget > control-top-widget-holder > control-carto-map-widget-holder > div > control-carto-map-satellite > a\").click()\n",
    "driver.find_element_by_css_selector(\"#container > shrinkable-layout > div > app-base > entry-layout > entry-close-button > button\").click()\n",
    "driver.find_element_by_css_selector(\"#container > div > maps-controller > dynamic-content-outlet.control_widget.ng-star-inserted > control-widget > control-top-widget-holder > div > control-export-group > control-save > button\").click()"
   ]
  }
 ],
 "metadata": {
  "kernelspec": {
   "display_name": "Python 3",
   "language": "python",
   "name": "python3"
  },
  "language_info": {
   "codemirror_mode": {
    "name": "ipython",
    "version": 3
   },
   "file_extension": ".py",
   "mimetype": "text/x-python",
   "name": "python",
   "nbconvert_exporter": "python",
   "pygments_lexer": "ipython3",
   "version": "3.8.8"
  }
 },
 "nbformat": 4,
 "nbformat_minor": 5
}
