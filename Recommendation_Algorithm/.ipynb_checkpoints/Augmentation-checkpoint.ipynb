{
 "cells": [
  {
   "cell_type": "code",
   "execution_count": 6,
   "id": "8985715c",
   "metadata": {},
   "outputs": [],
   "source": [
    "import Augmentor\n",
    "import cv2"
   ]
  },
  {
   "cell_type": "code",
   "execution_count": 12,
   "id": "29794719",
   "metadata": {},
   "outputs": [
    {
     "name": "stdout",
     "output_type": "stream",
     "text": [
      "Initialised with 4 image(s) found.\n",
      "Output directory set to C:/Users/User/Untitled Folder/image\\output."
     ]
    }
   ],
   "source": [
    "img = Augmentor.Pipeline(\"C:/Users/User/Untitled Folder/image\")"
   ]
  },
  {
   "cell_type": "code",
   "execution_count": 22,
   "id": "cb8f50ce",
   "metadata": {},
   "outputs": [
    {
     "name": "stderr",
     "output_type": "stream",
     "text": [
      "Processing <PIL.Image.Image image mode=RGB size=512x512 at 0x1ABDD0D7100>: 100%|███| 1/1 [00:00<00:00,  7.31 Samples/s]\n"
     ]
    }
   ],
   "source": [
    "# 좌우 반전\n",
    "#img.flip_left_right(probability=1.0) \n",
    "\n",
    "\n",
    "# 상하 반전\n",
    "#img.flip_top_bottom(probability=1.0)\n",
    "\n",
    "\n",
    "#모퉁이 왜곡\n",
    "#img.skew_corner(probability=1.0)\n",
    "\n",
    "\n",
    "#회전&크롭\n",
    "#img.rotate_without_crop(probability=1, max_left_rotation=0.8, max_right_rotation=0.8, expand=False, fillcolor=None)\n",
    "\n",
    "\n",
    "# 왜곡\n",
    "#img.random_distortion(probability=1, grid_width=10, grid_height=10, magnitude=30)\n",
    "\n",
    "\n",
    "#확대\n",
    "#img.zoom_random(probability=1, percentage_area=0.8)\n",
    "\n",
    "\n",
    "#크롭\n",
    "#img.crop_random(probability=1, percentage_area=0.8, randomise_percentage_area=False)\n",
    "\n",
    "\n",
    "#랜덤 지우기\n",
    "#img.random_erasing(probability=1.0, rectangle_area=0.3)\n",
    "\n",
    "\n",
    "# 증강 이미지 수\n",
    "img.sample(1)"
   ]
  },
  {
   "cell_type": "code",
   "execution_count": null,
   "id": "77595bdb",
   "metadata": {},
   "outputs": [],
   "source": []
  }
 ],
 "metadata": {
  "kernelspec": {
   "display_name": "Python 3 (ipykernel)",
   "language": "python",
   "name": "python3"
  },
  "language_info": {
   "codemirror_mode": {
    "name": "ipython",
    "version": 3
   },
   "file_extension": ".py",
   "mimetype": "text/x-python",
   "name": "python",
   "nbconvert_exporter": "python",
   "pygments_lexer": "ipython3",
   "version": "3.8.12"
  }
 },
 "nbformat": 4,
 "nbformat_minor": 5
}
