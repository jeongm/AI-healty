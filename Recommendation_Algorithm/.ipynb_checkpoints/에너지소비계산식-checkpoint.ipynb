{
 "cells": [
  {
   "cell_type": "markdown",
   "id": "8290bfe4",
   "metadata": {},
   "source": [
    "산소 소비량\n",
    "1MET = 3.5 ml / kg / min\n",
    "\n",
    "산소 1L당 5kcal 소비\n",
    "\n",
    "저강도 활동 = MET 1.1 ~ 2.9\n",
    "중강도 활동 = MET 3.0 ~ 5.9\n",
    "고강도 활동 = MET 6.0 ~\n"
   ]
  },
  {
   "cell_type": "markdown",
   "id": "33610e3f",
   "metadata": {},
   "source": [
    "1일 에너지 섭취량 = 기초대사량 + 활동대사량 + 소화대사량\n",
    "\n",
    "활동대사량을 판단하는 기준에 활동적인 정도를 3단계정도로 구분하는게 좋아보임\n",
    "기초대사량 판단에는 근육량\n",
    "소화대사량(kcal) = (기초대사량 + 활동대사량) X 10%\n",
    "\n",
    "BMI = body weight(kg) / Height^2(m^2)\n",
    "\n"
   ]
  },
  {
   "cell_type": "markdown",
   "id": "17fc77f4",
   "metadata": {},
   "source": [
    "#### 기초대사량(BMR) 공식 -> 해리스-베네딕트 공식\n",
    "남성 : (88.4 + 13.4 x 킬로그램 무게) + (신장 4.8 x 센티미터) - (5.68 x 연령)\n",
    "\n",
    "여성 : (447.6 + 9.25 x 체중 (kg)) + (3.10 x 높이 센티미터) - (4.33 x 연령)\n",
    "\n"
   ]
  },
  {
   "cell_type": "markdown",
   "id": "36c6c154",
   "metadata": {},
   "source": [
    "#### 어느게 팩트인지 확인중\n",
    "For men: BMR = 66.5 + (13.75 * weight in kg) + (5.003 * height in cm) - (6.75 * age)\n",
    "\n",
    "For women: BMR = 655.1 + (9.563 * weight in kg) + (1.850 * height in cm) - (4.676 * age)\n",
    "\n",
    "\n",
    "좌식(운동을 거의 또는 전혀 하지 않음): calories = BMR × 1.2;\n",
    "    \n",
    "가벼운 활동(가벼운 운동/스포츠 1-3일/주): calories = BMR × 1.375;\n",
    "    \n",
    "적당히 활동적(중간 정도의 운동/스포츠 3-5일/주): calories = BMR × 1.55;\n",
    "    \n",
    "매우 활동적(일주일에 6-7일 격렬한 운동/스포츠): calories = BMR × 1.725;\n",
    "    \n",
    "매우 활동적인 경우(매우 힘든 운동/스포츠 및 육체 노동): calories = BMR × 1.9."
   ]
  }
 ],
 "metadata": {
  "kernelspec": {
   "display_name": "Python 3 (ipykernel)",
   "language": "python",
   "name": "python3"
  },
  "language_info": {
   "codemirror_mode": {
    "name": "ipython",
    "version": 3
   },
   "file_extension": ".py",
   "mimetype": "text/x-python",
   "name": "python",
   "nbconvert_exporter": "python",
   "pygments_lexer": "ipython3",
   "version": "3.8.12"
  }
 },
 "nbformat": 4,
 "nbformat_minor": 5
}
