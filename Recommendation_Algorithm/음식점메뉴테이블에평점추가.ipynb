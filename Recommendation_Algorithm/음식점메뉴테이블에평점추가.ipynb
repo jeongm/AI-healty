{
 "cells": [
  {
   "cell_type": "code",
   "execution_count": 1,
   "id": "c62adab6",
   "metadata": {},
   "outputs": [],
   "source": [
    "import pandas as pd"
   ]
  },
  {
   "cell_type": "code",
   "execution_count": 5,
   "id": "323f9f09",
   "metadata": {},
   "outputs": [],
   "source": [
    "menu = pd.read_excel(\"메뉴분할본.xlsx\",header=0,index_col='Unnamed: 0')"
   ]
  },
  {
   "cell_type": "code",
   "execution_count": 6,
   "id": "5c456b28",
   "metadata": {},
   "outputs": [
    {
     "data": {
      "text/html": [
       "<div>\n",
       "<style scoped>\n",
       "    .dataframe tbody tr th:only-of-type {\n",
       "        vertical-align: middle;\n",
       "    }\n",
       "\n",
       "    .dataframe tbody tr th {\n",
       "        vertical-align: top;\n",
       "    }\n",
       "\n",
       "    .dataframe thead th {\n",
       "        text-align: right;\n",
       "    }\n",
       "</style>\n",
       "<table border=\"1\" class=\"dataframe\">\n",
       "  <thead>\n",
       "    <tr style=\"text-align: right;\">\n",
       "      <th></th>\n",
       "      <th>1</th>\n",
       "      <th>2</th>\n",
       "      <th>3</th>\n",
       "      <th>4</th>\n",
       "      <th>5</th>\n",
       "    </tr>\n",
       "  </thead>\n",
       "  <tbody>\n",
       "    <tr>\n",
       "      <th>0</th>\n",
       "      <td>해운대31cm해물칼국수 창원해운점</td>\n",
       "      <td>31cm해물칼국수</td>\n",
       "      <td>8,500원</td>\n",
       "      <td>해물칼국수</td>\n",
       "      <td>NaN</td>\n",
       "    </tr>\n",
       "    <tr>\n",
       "      <th>1</th>\n",
       "      <td>해운대31cm해물칼국수 창원해운점</td>\n",
       "      <td>31cm 해물파전</td>\n",
       "      <td>10,000원</td>\n",
       "      <td>해물파전</td>\n",
       "      <td>NaN</td>\n",
       "    </tr>\n",
       "    <tr>\n",
       "      <th>2</th>\n",
       "      <td>해운대31cm해물칼국수 창원해운점</td>\n",
       "      <td>조개전골(대)</td>\n",
       "      <td>39,000원</td>\n",
       "      <td>조개전골</td>\n",
       "      <td>NaN</td>\n",
       "    </tr>\n",
       "    <tr>\n",
       "      <th>3</th>\n",
       "      <td>마실밥상 창원마산합포구점</td>\n",
       "      <td>특선A</td>\n",
       "      <td>15,000원</td>\n",
       "      <td>NaN</td>\n",
       "      <td>NaN</td>\n",
       "    </tr>\n",
       "    <tr>\n",
       "      <th>4</th>\n",
       "      <td>마실밥상 창원마산합포구점</td>\n",
       "      <td>특선B</td>\n",
       "      <td>19,000원</td>\n",
       "      <td>NaN</td>\n",
       "      <td>NaN</td>\n",
       "    </tr>\n",
       "  </tbody>\n",
       "</table>\n",
       "</div>"
      ],
      "text/plain": [
       "                    1          2        3      4    5\n",
       "0  해운대31cm해물칼국수 창원해운점  31cm해물칼국수   8,500원  해물칼국수  NaN\n",
       "1  해운대31cm해물칼국수 창원해운점  31cm 해물파전  10,000원   해물파전  NaN\n",
       "2  해운대31cm해물칼국수 창원해운점    조개전골(대)  39,000원   조개전골  NaN\n",
       "3       마실밥상 창원마산합포구점        특선A  15,000원    NaN  NaN\n",
       "4       마실밥상 창원마산합포구점        특선B  19,000원    NaN  NaN"
      ]
     },
     "execution_count": 6,
     "metadata": {},
     "output_type": "execute_result"
    }
   ],
   "source": [
    "menu.head()"
   ]
  },
  {
   "cell_type": "code",
   "execution_count": 7,
   "id": "7f933455",
   "metadata": {},
   "outputs": [],
   "source": [
    "point = pd.read_excel(\"음식점평점리뷰수.xlsx\",header=0,index_col='Unnamed: 0')"
   ]
  },
  {
   "cell_type": "code",
   "execution_count": 8,
   "id": "c4ac2e07",
   "metadata": {},
   "outputs": [
    {
     "data": {
      "text/html": [
       "<div>\n",
       "<style scoped>\n",
       "    .dataframe tbody tr th:only-of-type {\n",
       "        vertical-align: middle;\n",
       "    }\n",
       "\n",
       "    .dataframe tbody tr th {\n",
       "        vertical-align: top;\n",
       "    }\n",
       "\n",
       "    .dataframe thead th {\n",
       "        text-align: right;\n",
       "    }\n",
       "</style>\n",
       "<table border=\"1\" class=\"dataframe\">\n",
       "  <thead>\n",
       "    <tr style=\"text-align: right;\">\n",
       "      <th></th>\n",
       "      <th>0</th>\n",
       "      <th>1</th>\n",
       "      <th>2</th>\n",
       "      <th>3</th>\n",
       "    </tr>\n",
       "  </thead>\n",
       "  <tbody>\n",
       "    <tr>\n",
       "      <th>0</th>\n",
       "      <td>푸라닭 마산월영점</td>\n",
       "      <td>4.43</td>\n",
       "      <td>방문자리뷰 152</td>\n",
       "      <td>블로그리뷰 25</td>\n",
       "    </tr>\n",
       "    <tr>\n",
       "      <th>1</th>\n",
       "      <td>금향</td>\n",
       "      <td>4.49</td>\n",
       "      <td>방문자리뷰 750</td>\n",
       "      <td>블로그리뷰 213</td>\n",
       "    </tr>\n",
       "    <tr>\n",
       "      <th>2</th>\n",
       "      <td>마실밥상 창원마산합포구점</td>\n",
       "      <td>4.20</td>\n",
       "      <td>방문자리뷰 310</td>\n",
       "      <td>블로그리뷰 254</td>\n",
       "    </tr>\n",
       "    <tr>\n",
       "      <th>3</th>\n",
       "      <td>스시혼</td>\n",
       "      <td>4.41</td>\n",
       "      <td>방문자리뷰 378</td>\n",
       "      <td>블로그리뷰 108</td>\n",
       "    </tr>\n",
       "    <tr>\n",
       "      <th>4</th>\n",
       "      <td>몬스터로스터스</td>\n",
       "      <td>4.55</td>\n",
       "      <td>방문자리뷰 451</td>\n",
       "      <td>블로그리뷰 354</td>\n",
       "    </tr>\n",
       "  </tbody>\n",
       "</table>\n",
       "</div>"
      ],
      "text/plain": [
       "               0     1          2          3\n",
       "0      푸라닭 마산월영점  4.43  방문자리뷰 152   블로그리뷰 25\n",
       "1             금향  4.49  방문자리뷰 750  블로그리뷰 213\n",
       "2  마실밥상 창원마산합포구점  4.20  방문자리뷰 310  블로그리뷰 254\n",
       "3            스시혼  4.41  방문자리뷰 378  블로그리뷰 108\n",
       "4        몬스터로스터스  4.55  방문자리뷰 451  블로그리뷰 354"
      ]
     },
     "execution_count": 8,
     "metadata": {},
     "output_type": "execute_result"
    }
   ],
   "source": [
    "point.head()"
   ]
  },
  {
   "cell_type": "code",
   "execution_count": 15,
   "id": "ca25151c",
   "metadata": {},
   "outputs": [],
   "source": [
    "point = point.rename({0:'음식점',1:'별점',2:'방문자리뷰',3:'블로그리뷰'},axis=1)"
   ]
  },
  {
   "cell_type": "code",
   "execution_count": 22,
   "id": "3107eb8c",
   "metadata": {},
   "outputs": [
    {
     "data": {
      "text/plain": [
       "'152'"
      ]
     },
     "execution_count": 22,
     "metadata": {},
     "output_type": "execute_result"
    }
   ],
   "source": [
    "point['방문자리뷰'][0].split()[-1]"
   ]
  },
  {
   "cell_type": "code",
   "execution_count": 23,
   "id": "b678a543",
   "metadata": {},
   "outputs": [
    {
     "data": {
      "text/plain": [
       "208"
      ]
     },
     "execution_count": 23,
     "metadata": {},
     "output_type": "execute_result"
    }
   ],
   "source": [
    "len(point['방문자리뷰'])"
   ]
  },
  {
   "cell_type": "code",
   "execution_count": 24,
   "id": "54cfdac0",
   "metadata": {},
   "outputs": [
    {
     "name": "stderr",
     "output_type": "stream",
     "text": [
      "C:\\Users\\User\\AppData\\Local\\Temp/ipykernel_11772/4210256193.py:2: SettingWithCopyWarning: \n",
      "A value is trying to be set on a copy of a slice from a DataFrame\n",
      "\n",
      "See the caveats in the documentation: https://pandas.pydata.org/pandas-docs/stable/user_guide/indexing.html#returning-a-view-versus-a-copy\n",
      "  point['방문자리뷰'][i] = point['방문자리뷰'][i].split()[-1]\n"
     ]
    }
   ],
   "source": [
    "for i in range(len(point['방문자리뷰'])):\n",
    "    point['방문자리뷰'][i] = point['방문자리뷰'][i].split()[-1]\n",
    "    point['블로그리뷰'][i] = point['블로그리뷰'][i].split()[-1]"
   ]
  },
  {
   "cell_type": "code",
   "execution_count": 27,
   "id": "3628e05e",
   "metadata": {},
   "outputs": [
    {
     "data": {
      "text/html": [
       "<div>\n",
       "<style scoped>\n",
       "    .dataframe tbody tr th:only-of-type {\n",
       "        vertical-align: middle;\n",
       "    }\n",
       "\n",
       "    .dataframe tbody tr th {\n",
       "        vertical-align: top;\n",
       "    }\n",
       "\n",
       "    .dataframe thead th {\n",
       "        text-align: right;\n",
       "    }\n",
       "</style>\n",
       "<table border=\"1\" class=\"dataframe\">\n",
       "  <thead>\n",
       "    <tr style=\"text-align: right;\">\n",
       "      <th></th>\n",
       "      <th>음식점</th>\n",
       "      <th>별점</th>\n",
       "      <th>방문자리뷰</th>\n",
       "      <th>블로그리뷰</th>\n",
       "    </tr>\n",
       "  </thead>\n",
       "  <tbody>\n",
       "    <tr>\n",
       "      <th>0</th>\n",
       "      <td>푸라닭 마산월영점</td>\n",
       "      <td>4.43</td>\n",
       "      <td>152</td>\n",
       "      <td>25</td>\n",
       "    </tr>\n",
       "    <tr>\n",
       "      <th>1</th>\n",
       "      <td>금향</td>\n",
       "      <td>4.49</td>\n",
       "      <td>750</td>\n",
       "      <td>213</td>\n",
       "    </tr>\n",
       "    <tr>\n",
       "      <th>2</th>\n",
       "      <td>마실밥상 창원마산합포구점</td>\n",
       "      <td>4.20</td>\n",
       "      <td>310</td>\n",
       "      <td>254</td>\n",
       "    </tr>\n",
       "    <tr>\n",
       "      <th>3</th>\n",
       "      <td>스시혼</td>\n",
       "      <td>4.41</td>\n",
       "      <td>378</td>\n",
       "      <td>108</td>\n",
       "    </tr>\n",
       "    <tr>\n",
       "      <th>4</th>\n",
       "      <td>몬스터로스터스</td>\n",
       "      <td>4.55</td>\n",
       "      <td>451</td>\n",
       "      <td>354</td>\n",
       "    </tr>\n",
       "    <tr>\n",
       "      <th>...</th>\n",
       "      <td>...</td>\n",
       "      <td>...</td>\n",
       "      <td>...</td>\n",
       "      <td>...</td>\n",
       "    </tr>\n",
       "    <tr>\n",
       "      <th>203</th>\n",
       "      <td>청년피자 합포점</td>\n",
       "      <td>4.31</td>\n",
       "      <td>34</td>\n",
       "      <td>7</td>\n",
       "    </tr>\n",
       "    <tr>\n",
       "      <th>204</th>\n",
       "      <td>원탁가라오케</td>\n",
       "      <td>4.06</td>\n",
       "      <td>26</td>\n",
       "      <td>0</td>\n",
       "    </tr>\n",
       "    <tr>\n",
       "      <th>205</th>\n",
       "      <td>촌놈의짬뽕 합포구점</td>\n",
       "      <td>4.24</td>\n",
       "      <td>56</td>\n",
       "      <td>7</td>\n",
       "    </tr>\n",
       "    <tr>\n",
       "      <th>206</th>\n",
       "      <td>동네커피</td>\n",
       "      <td>4.49</td>\n",
       "      <td>82</td>\n",
       "      <td>11</td>\n",
       "    </tr>\n",
       "    <tr>\n",
       "      <th>207</th>\n",
       "      <td>아마스빈 창원경남대점</td>\n",
       "      <td>4.65</td>\n",
       "      <td>444</td>\n",
       "      <td>8</td>\n",
       "    </tr>\n",
       "  </tbody>\n",
       "</table>\n",
       "<p>208 rows × 4 columns</p>\n",
       "</div>"
      ],
      "text/plain": [
       "               음식점    별점 방문자리뷰 블로그리뷰\n",
       "0        푸라닭 마산월영점  4.43   152    25\n",
       "1               금향  4.49   750   213\n",
       "2    마실밥상 창원마산합포구점  4.20   310   254\n",
       "3              스시혼  4.41   378   108\n",
       "4          몬스터로스터스  4.55   451   354\n",
       "..             ...   ...   ...   ...\n",
       "203       청년피자 합포점  4.31    34     7\n",
       "204         원탁가라오케  4.06    26     0\n",
       "205     촌놈의짬뽕 합포구점  4.24    56     7\n",
       "206           동네커피  4.49    82    11\n",
       "207    아마스빈 창원경남대점  4.65   444     8\n",
       "\n",
       "[208 rows x 4 columns]"
      ]
     },
     "execution_count": 27,
     "metadata": {},
     "output_type": "execute_result"
    }
   ],
   "source": [
    "point"
   ]
  },
  {
   "cell_type": "code",
   "execution_count": null,
   "id": "7db07bde",
   "metadata": {},
   "outputs": [],
   "source": []
  }
 ],
 "metadata": {
  "kernelspec": {
   "display_name": "Python 3 (ipykernel)",
   "language": "python",
   "name": "python3"
  },
  "language_info": {
   "codemirror_mode": {
    "name": "ipython",
    "version": 3
   },
   "file_extension": ".py",
   "mimetype": "text/x-python",
   "name": "python",
   "nbconvert_exporter": "python",
   "pygments_lexer": "ipython3",
   "version": "3.8.12"
  }
 },
 "nbformat": 4,
 "nbformat_minor": 5
}
