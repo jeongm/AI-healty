{
 "cells": [
  {
   "cell_type": "markdown",
   "id": "c94208e4",
   "metadata": {},
   "source": [
    "산소 소비량\n",
    "1MET = 3.5 ml / kg / min\n",
    "\n",
    "산소 1L당 5kcal 소비\n",
    "\n",
    "저강도 활동 = MET 1.1 ~ 2.9\n",
    "중강도 활동 = MET 3.0 ~ 5.9\n",
    "고강도 활동 = MET 6.0 ~\n"
   ]
  },
  {
   "cell_type": "markdown",
   "id": "1b31848b",
   "metadata": {},
   "source": [
    "1일 에너지 섭취량 = 기초대사량 + 활동대사량 + 소화대사량\n",
    "\n",
    "활동대사량을 판단하는 기준에 활동적인 정도를 3단계정도로 구분하는게 좋아보임\n",
    "기초대사량 판단에는 근육량\n",
    "소화대사량(kcal) = (기초대사량 + 활동대사량) X 10%\n",
    "\n",
    "BMI = body weight(kg) / Height^2(m^2)\n",
    "\n"
   ]
  },
  {
   "cell_type": "code",
   "execution_count": null,
   "id": "531f561b",
   "metadata": {},
   "outputs": [],
   "source": []
  },
  {
   "cell_type": "markdown",
   "id": "8c1590c2",
   "metadata": {},
   "source": [
    "#### 기초대사량(BMR) 공식 -> 해리스-베네딕트 공식\n",
    "For men: BMR = 66.5 + (13.75 * weight in kg) + (5.003 * height in cm) - (6.75 * age)\n",
    "\n",
    "For women: BMR = 655.1 + (9.563 * weight in kg) + (1.850 * height in cm) - (4.676 * age)\n",
    "\n",
    "#### 수정된 공식\n",
    "Men\tBMR = (10 × weight in kg) + (6.25 × height in cm) - (5 × age in years) + 5\n",
    "\n",
    "Women\tBMR = (10 × weight in kg) + (6.25 × height in cm) - (5 × age in years) - 161\n",
    "\n",
    "\n",
    "#### 권장에너지 섭취량\n",
    "\n",
    "좌식(운동을 거의 또는 전혀 하지 않음): calories = BMR × 1.2;\n",
    "    \n",
    "가벼운 활동(가벼운 운동/스포츠 1-3일/주): calories = BMR × 1.375;\n",
    "    \n",
    "적당히 활동적(중간 정도의 운동/스포츠 3-5일/주): calories = BMR × 1.55;\n",
    "    \n",
    "매우 활동적(일주일에 6-7일 격렬한 운동/스포츠): calories = BMR × 1.725;\n",
    "    \n",
    "매우 활동적인 경우(매우 힘든 운동/스포츠 및 육체 노동): calories = BMR × 1.9."
   ]
  },
  {
   "cell_type": "markdown",
   "id": "ddca78b1",
   "metadata": {},
   "source": [
    "### 한국인 영양소 섭취비율 \n",
    "남자 : 탄수화물 55~65 / 단백질 7~20 / 지질(지방,포화지방산,트랜스지방산) 15~30, ~7, ~1\n",
    "\n",
    "여자 : 탄수화물 55~65 / 단백질 7~20 / 지질(지방,포화지방산,트랜스지방산) 15~30, ~7, ~1"
   ]
  },
  {
   "cell_type": "code",
   "execution_count": null,
   "id": "ced213e6",
   "metadata": {},
   "outputs": [],
   "source": []
  }
 ],
 "metadata": {
  "kernelspec": {
   "display_name": "Python 3 (ipykernel)",
   "language": "python",
   "name": "python3"
  },
  "language_info": {
   "codemirror_mode": {
    "name": "ipython",
    "version": 3
   },
   "file_extension": ".py",
   "mimetype": "text/x-python",
   "name": "python",
   "nbconvert_exporter": "python",
   "pygments_lexer": "ipython3",
   "version": "3.8.12"
  }
 },
 "nbformat": 4,
 "nbformat_minor": 5
}
