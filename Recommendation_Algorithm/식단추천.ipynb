{
 "cells": [
  {
   "cell_type": "code",
   "execution_count": 1,
   "id": "884fad23",
   "metadata": {},
   "outputs": [],
   "source": [
    "import pandas as pd"
   ]
  },
  {
   "cell_type": "code",
   "execution_count": 93,
   "id": "3489f79a",
   "metadata": {},
   "outputs": [],
   "source": [
    "df = pd.read_excel(\"식단예시2차.xlsx\",header=0,index_col=\"Unnamed: 0\")"
   ]
  },
  {
   "cell_type": "code",
   "execution_count": 94,
   "id": "3a309647",
   "metadata": {
    "scrolled": false
   },
   "outputs": [
    {
     "data": {
      "text/html": [
       "<div>\n",
       "<style scoped>\n",
       "    .dataframe tbody tr th:only-of-type {\n",
       "        vertical-align: middle;\n",
       "    }\n",
       "\n",
       "    .dataframe tbody tr th {\n",
       "        vertical-align: top;\n",
       "    }\n",
       "\n",
       "    .dataframe thead th {\n",
       "        text-align: right;\n",
       "    }\n",
       "</style>\n",
       "<table border=\"1\" class=\"dataframe\">\n",
       "  <thead>\n",
       "    <tr style=\"text-align: right;\">\n",
       "      <th></th>\n",
       "      <th>식품명</th>\n",
       "      <th>식품대분류</th>\n",
       "      <th>식품상세분류</th>\n",
       "      <th>1회제공량</th>\n",
       "      <th>에너지(㎉)</th>\n",
       "      <th>단백질(g)</th>\n",
       "      <th>지방(g)</th>\n",
       "      <th>탄수화물(g)</th>\n",
       "      <th>총당류(g)</th>\n",
       "      <th>총 식이섬유(g)</th>\n",
       "      <th>나트륨(㎎)</th>\n",
       "      <th>콜레스테롤(㎎)</th>\n",
       "      <th>총 포화 지방산(g)</th>\n",
       "    </tr>\n",
       "  </thead>\n",
       "  <tbody>\n",
       "    <tr>\n",
       "      <th>0</th>\n",
       "      <td>닭갈비</td>\n",
       "      <td>구이류</td>\n",
       "      <td>육류구이</td>\n",
       "      <td>400</td>\n",
       "      <td>595.610</td>\n",
       "      <td>45.900</td>\n",
       "      <td>25.800</td>\n",
       "      <td>44.900</td>\n",
       "      <td>21.200</td>\n",
       "      <td>11.600</td>\n",
       "      <td>1535.830</td>\n",
       "      <td>193.400</td>\n",
       "      <td>6.000</td>\n",
       "    </tr>\n",
       "    <tr>\n",
       "      <th>1</th>\n",
       "      <td>닭갈비</td>\n",
       "      <td>구이류</td>\n",
       "      <td>육류구이</td>\n",
       "      <td>300</td>\n",
       "      <td>558.470</td>\n",
       "      <td>45.500</td>\n",
       "      <td>31.600</td>\n",
       "      <td>23.100</td>\n",
       "      <td>8.500</td>\n",
       "      <td>6.600</td>\n",
       "      <td>1016.940</td>\n",
       "      <td>217.670</td>\n",
       "      <td>11.300</td>\n",
       "    </tr>\n",
       "    <tr>\n",
       "      <th>2</th>\n",
       "      <td>닭꼬치</td>\n",
       "      <td>구이류</td>\n",
       "      <td>육류구이</td>\n",
       "      <td>70</td>\n",
       "      <td>176.723</td>\n",
       "      <td>11.562</td>\n",
       "      <td>8.565</td>\n",
       "      <td>13.348</td>\n",
       "      <td>3.152</td>\n",
       "      <td>2.072</td>\n",
       "      <td>286.911</td>\n",
       "      <td>31.444</td>\n",
       "      <td>2.315</td>\n",
       "    </tr>\n",
       "    <tr>\n",
       "      <th>3</th>\n",
       "      <td>돼지갈비</td>\n",
       "      <td>구이류</td>\n",
       "      <td>육류구이</td>\n",
       "      <td>100</td>\n",
       "      <td>240.320</td>\n",
       "      <td>19.500</td>\n",
       "      <td>14.400</td>\n",
       "      <td>8.100</td>\n",
       "      <td>4.500</td>\n",
       "      <td>0.300</td>\n",
       "      <td>404.660</td>\n",
       "      <td>49.340</td>\n",
       "      <td>4.700</td>\n",
       "    </tr>\n",
       "    <tr>\n",
       "      <th>4</th>\n",
       "      <td>불고기</td>\n",
       "      <td>구이류</td>\n",
       "      <td>육류구이</td>\n",
       "      <td>150</td>\n",
       "      <td>395.290</td>\n",
       "      <td>34.400</td>\n",
       "      <td>25.200</td>\n",
       "      <td>7.800</td>\n",
       "      <td>7.900</td>\n",
       "      <td>1.200</td>\n",
       "      <td>560.710</td>\n",
       "      <td>68.850</td>\n",
       "      <td>6.600</td>\n",
       "    </tr>\n",
       "  </tbody>\n",
       "</table>\n",
       "</div>"
      ],
      "text/plain": [
       "    식품명 식품대분류 식품상세분류  1회제공량   에너지(㎉)  단백질(g)   지방(g)  탄수화물(g)  총당류(g)  \\\n",
       "0   닭갈비   구이류   육류구이    400  595.610  45.900  25.800   44.900  21.200   \n",
       "1   닭갈비   구이류   육류구이    300  558.470  45.500  31.600   23.100   8.500   \n",
       "2   닭꼬치   구이류   육류구이     70  176.723  11.562   8.565   13.348   3.152   \n",
       "3  돼지갈비   구이류   육류구이    100  240.320  19.500  14.400    8.100   4.500   \n",
       "4   불고기   구이류   육류구이    150  395.290  34.400  25.200    7.800   7.900   \n",
       "\n",
       "   총 식이섬유(g)    나트륨(㎎)  콜레스테롤(㎎)  총 포화 지방산(g)  \n",
       "0     11.600  1535.830   193.400        6.000  \n",
       "1      6.600  1016.940   217.670       11.300  \n",
       "2      2.072   286.911    31.444        2.315  \n",
       "3      0.300   404.660    49.340        4.700  \n",
       "4      1.200   560.710    68.850        6.600  "
      ]
     },
     "execution_count": 94,
     "metadata": {},
     "output_type": "execute_result"
    }
   ],
   "source": [
    "df.head()"
   ]
  },
  {
   "cell_type": "code",
   "execution_count": 96,
   "id": "a812a754",
   "metadata": {
    "scrolled": true
   },
   "outputs": [
    {
     "name": "stdout",
     "output_type": "stream",
     "text": [
      "<class 'pandas.core.frame.DataFrame'>\n",
      "Int64Index: 393 entries, 0 to 392\n",
      "Data columns (total 13 columns):\n",
      " #   Column       Non-Null Count  Dtype  \n",
      "---  ------       --------------  -----  \n",
      " 0   식품명          393 non-null    object \n",
      " 1   식품대분류        393 non-null    object \n",
      " 2   식품상세분류       393 non-null    object \n",
      " 3   1회제공량        393 non-null    int64  \n",
      " 4   에너지(㎉)       393 non-null    float64\n",
      " 5   단백질(g)       393 non-null    float64\n",
      " 6   지방(g)        393 non-null    float64\n",
      " 7   탄수화물(g)      393 non-null    float64\n",
      " 8   총당류(g)       393 non-null    float64\n",
      " 9   총 식이섬유(g)    393 non-null    float64\n",
      " 10  나트륨(㎎)       393 non-null    float64\n",
      " 11  콜레스테롤(㎎)     393 non-null    float64\n",
      " 12  총 포화 지방산(g)  393 non-null    float64\n",
      "dtypes: float64(9), int64(1), object(3)\n",
      "memory usage: 43.0+ KB\n"
     ]
    }
   ],
   "source": [
    "df.info()"
   ]
  },
  {
   "cell_type": "code",
   "execution_count": 97,
   "id": "49aa2408",
   "metadata": {
    "scrolled": true
   },
   "outputs": [
    {
     "data": {
      "text/html": [
       "<div>\n",
       "<style scoped>\n",
       "    .dataframe tbody tr th:only-of-type {\n",
       "        vertical-align: middle;\n",
       "    }\n",
       "\n",
       "    .dataframe tbody tr th {\n",
       "        vertical-align: top;\n",
       "    }\n",
       "\n",
       "    .dataframe thead th {\n",
       "        text-align: right;\n",
       "    }\n",
       "</style>\n",
       "<table border=\"1\" class=\"dataframe\">\n",
       "  <thead>\n",
       "    <tr style=\"text-align: right;\">\n",
       "      <th></th>\n",
       "      <th>식품명</th>\n",
       "      <th>식품대분류</th>\n",
       "      <th>식품상세분류</th>\n",
       "      <th>1회제공량</th>\n",
       "      <th>에너지(㎉)</th>\n",
       "      <th>단백질(g)</th>\n",
       "      <th>지방(g)</th>\n",
       "      <th>탄수화물(g)</th>\n",
       "      <th>총당류(g)</th>\n",
       "      <th>총 식이섬유(g)</th>\n",
       "      <th>나트륨(㎎)</th>\n",
       "      <th>콜레스테롤(㎎)</th>\n",
       "      <th>총 포화 지방산(g)</th>\n",
       "    </tr>\n",
       "  </thead>\n",
       "  <tbody>\n",
       "    <tr>\n",
       "      <th>348</th>\n",
       "      <td>부대찌개</td>\n",
       "      <td>찌개 및 전골류</td>\n",
       "      <td>육류찌개.전골</td>\n",
       "      <td>600</td>\n",
       "      <td>737.0</td>\n",
       "      <td>35.2</td>\n",
       "      <td>38.9</td>\n",
       "      <td>61.6</td>\n",
       "      <td>1.1</td>\n",
       "      <td>13.9</td>\n",
       "      <td>1435.59</td>\n",
       "      <td>66.31</td>\n",
       "      <td>10.1</td>\n",
       "    </tr>\n",
       "    <tr>\n",
       "      <th>225</th>\n",
       "      <td>생선모듬초밥</td>\n",
       "      <td>밥류</td>\n",
       "      <td>김밥(초밥)류</td>\n",
       "      <td>380</td>\n",
       "      <td>607.0</td>\n",
       "      <td>36.7</td>\n",
       "      <td>6.1</td>\n",
       "      <td>101.5</td>\n",
       "      <td>5.3</td>\n",
       "      <td>7.5</td>\n",
       "      <td>540.96</td>\n",
       "      <td>73.83</td>\n",
       "      <td>1.5</td>\n",
       "    </tr>\n",
       "    <tr>\n",
       "      <th>15</th>\n",
       "      <td>뼈다귀해장국</td>\n",
       "      <td>국 및 탕류</td>\n",
       "      <td>육류국.탕</td>\n",
       "      <td>1000</td>\n",
       "      <td>714.0</td>\n",
       "      <td>74.6</td>\n",
       "      <td>35.7</td>\n",
       "      <td>23.4</td>\n",
       "      <td>5.7</td>\n",
       "      <td>17.0</td>\n",
       "      <td>3088.21</td>\n",
       "      <td>321.72</td>\n",
       "      <td>14.3</td>\n",
       "    </tr>\n",
       "  </tbody>\n",
       "</table>\n",
       "</div>"
      ],
      "text/plain": [
       "        식품명     식품대분류   식품상세분류  1회제공량  에너지(㎉)  단백질(g)  지방(g)  탄수화물(g)  총당류(g)  \\\n",
       "348    부대찌개  찌개 및 전골류  육류찌개.전골    600   737.0    35.2   38.9     61.6     1.1   \n",
       "225  생선모듬초밥        밥류  김밥(초밥)류    380   607.0    36.7    6.1    101.5     5.3   \n",
       "15   뼈다귀해장국    국 및 탕류    육류국.탕   1000   714.0    74.6   35.7     23.4     5.7   \n",
       "\n",
       "     총 식이섬유(g)   나트륨(㎎)  콜레스테롤(㎎)  총 포화 지방산(g)  \n",
       "348       13.9  1435.59     66.31         10.1  \n",
       "225        7.5   540.96     73.83          1.5  \n",
       "15        17.0  3088.21    321.72         14.3  "
      ]
     },
     "execution_count": 97,
     "metadata": {},
     "output_type": "execute_result"
    }
   ],
   "source": [
    "df[df[\"에너지(㎉)\"]>500].sample(n=3,weights=\"단백질(g)\")"
   ]
  },
  {
   "cell_type": "code",
   "execution_count": 101,
   "id": "e5e57e46",
   "metadata": {
    "scrolled": true
   },
   "outputs": [
    {
     "data": {
      "text/html": [
       "<div>\n",
       "<style scoped>\n",
       "    .dataframe tbody tr th:only-of-type {\n",
       "        vertical-align: middle;\n",
       "    }\n",
       "\n",
       "    .dataframe tbody tr th {\n",
       "        vertical-align: top;\n",
       "    }\n",
       "\n",
       "    .dataframe thead th {\n",
       "        text-align: right;\n",
       "    }\n",
       "</style>\n",
       "<table border=\"1\" class=\"dataframe\">\n",
       "  <thead>\n",
       "    <tr style=\"text-align: right;\">\n",
       "      <th></th>\n",
       "      <th>식품명</th>\n",
       "      <th>식품대분류</th>\n",
       "      <th>식품상세분류</th>\n",
       "      <th>1회제공량</th>\n",
       "      <th>에너지(㎉)</th>\n",
       "      <th>단백질(g)</th>\n",
       "      <th>지방(g)</th>\n",
       "      <th>탄수화물(g)</th>\n",
       "      <th>총당류(g)</th>\n",
       "      <th>총 식이섬유(g)</th>\n",
       "      <th>나트륨(㎎)</th>\n",
       "      <th>콜레스테롤(㎎)</th>\n",
       "      <th>총 포화 지방산(g)</th>\n",
       "    </tr>\n",
       "  </thead>\n",
       "  <tbody>\n",
       "    <tr>\n",
       "      <th>15</th>\n",
       "      <td>뼈다귀해장국</td>\n",
       "      <td>국 및 탕류</td>\n",
       "      <td>육류국.탕</td>\n",
       "      <td>1000</td>\n",
       "      <td>714.0</td>\n",
       "      <td>74.6</td>\n",
       "      <td>35.7</td>\n",
       "      <td>23.4</td>\n",
       "      <td>5.7</td>\n",
       "      <td>17.0</td>\n",
       "      <td>3088.21</td>\n",
       "      <td>321.72</td>\n",
       "      <td>14.3</td>\n",
       "    </tr>\n",
       "    <tr>\n",
       "      <th>160</th>\n",
       "      <td>순댓국</td>\n",
       "      <td>국 및 탕류</td>\n",
       "      <td>육류국.탕</td>\n",
       "      <td>600</td>\n",
       "      <td>509.0</td>\n",
       "      <td>14.1</td>\n",
       "      <td>10.5</td>\n",
       "      <td>89.7</td>\n",
       "      <td>1.6</td>\n",
       "      <td>12.4</td>\n",
       "      <td>1981.58</td>\n",
       "      <td>58.00</td>\n",
       "      <td>3.0</td>\n",
       "    </tr>\n",
       "    <tr>\n",
       "      <th>46</th>\n",
       "      <td>돼지국밥</td>\n",
       "      <td>밥류</td>\n",
       "      <td>기타 밥류</td>\n",
       "      <td>1200</td>\n",
       "      <td>911.4</td>\n",
       "      <td>66.4</td>\n",
       "      <td>38.6</td>\n",
       "      <td>74.7</td>\n",
       "      <td>0.0</td>\n",
       "      <td>12.0</td>\n",
       "      <td>1096.58</td>\n",
       "      <td>142.55</td>\n",
       "      <td>8.4</td>\n",
       "    </tr>\n",
       "  </tbody>\n",
       "</table>\n",
       "</div>"
      ],
      "text/plain": [
       "        식품명   식품대분류 식품상세분류  1회제공량  에너지(㎉)  단백질(g)  지방(g)  탄수화물(g)  총당류(g)  \\\n",
       "15   뼈다귀해장국  국 및 탕류  육류국.탕   1000   714.0    74.6   35.7     23.4     5.7   \n",
       "160     순댓국  국 및 탕류  육류국.탕    600   509.0    14.1   10.5     89.7     1.6   \n",
       "46     돼지국밥      밥류  기타 밥류   1200   911.4    66.4   38.6     74.7     0.0   \n",
       "\n",
       "     총 식이섬유(g)   나트륨(㎎)  콜레스테롤(㎎)  총 포화 지방산(g)  \n",
       "15        17.0  3088.21    321.72         14.3  \n",
       "160       12.4  1981.58     58.00          3.0  \n",
       "46        12.0  1096.58    142.55          8.4  "
      ]
     },
     "execution_count": 101,
     "metadata": {},
     "output_type": "execute_result"
    }
   ],
   "source": [
    "df[df[\"에너지(㎉)\"]>500].sample(n=3,weights=\"총 식이섬유(g)\")"
   ]
  },
  {
   "cell_type": "code",
   "execution_count": 110,
   "id": "0020167a",
   "metadata": {},
   "outputs": [
    {
     "data": {
      "text/plain": [
       "array([600, 509.0, 14.1, 10.5, 89.7, 1.6, 12.4, 1981.58, 58.0, 3.0],\n",
       "      dtype=object)"
      ]
     },
     "execution_count": 110,
     "metadata": {},
     "output_type": "execute_result"
    }
   ],
   "source": [
    "df[df['식품명']=='순댓국'].values[0][3:]"
   ]
  },
  {
   "cell_type": "code",
   "execution_count": 111,
   "id": "e0ef2fb8",
   "metadata": {},
   "outputs": [
    {
     "data": {
      "text/plain": [
       "array(['구이류', '국 및 탕류', '회류', '찌개 및 전골류', '숙채류', '면 및 만두류', '생채및 무침류',\n",
       "       '밥류', '볶음류', '전.적 및 부침류', '조림류', '죽 및 스프류', '찜류', '튀김류', '김치류',\n",
       "       '장아찌 및 절임류'], dtype=object)"
      ]
     },
     "execution_count": 111,
     "metadata": {},
     "output_type": "execute_result"
    }
   ],
   "source": [
    "df['식품대분류'].unique()"
   ]
  },
  {
   "cell_type": "code",
   "execution_count": 112,
   "id": "890444e9",
   "metadata": {},
   "outputs": [
    {
     "data": {
      "text/plain": [
       "array(['육류구이', '어패류구이', '기타 국 및 탕류', '채소류국.탕', '어패류국.탕', '육류국.탕', '회류',\n",
       "       '육류찌개.전골', '나물.숙채류', '중식면류', '국수류', '스파게티류', '라면류', '어패류무침',\n",
       "       '기타 밥류', '비빔밥류', '김밥(초밥)류', '쌀밥.잡곡밥류', '덮밥류', '볶음밥류', '육류볶음',\n",
       "       '채소류볶음', '어패류볶음', '육류전', '채소류전', '육류조림', '죽류', '어패류찌개.전골',\n",
       "       '채소류찌개.전골', '어패류찜', '육류찜', '채소류튀김', '육류튀김', '어패류튀김', '치킨류', '채소류찜',\n",
       "       '냉국류', '김치', '나물.채소류무침', '만두류', '기타 면 및 만두류', '떡볶이류', '기타 볶음류',\n",
       "       '샐러드', '기타 생채.무침류', '장아찌.절임류', '기타 전.적 및 부침류', '어패류전', '어패류조림',\n",
       "       '채소류조림', '기타 조림류', '스프류', '기타 찜류', '기타 튀김류'], dtype=object)"
      ]
     },
     "execution_count": 112,
     "metadata": {},
     "output_type": "execute_result"
    }
   ],
   "source": [
    "df['식품상세분류'].unique()"
   ]
  },
  {
   "cell_type": "code",
   "execution_count": 113,
   "id": "01f000f1",
   "metadata": {},
   "outputs": [
    {
     "data": {
      "text/plain": [
       "54"
      ]
     },
     "execution_count": 113,
     "metadata": {},
     "output_type": "execute_result"
    }
   ],
   "source": [
    "len(df['식품상세분류'].unique())"
   ]
  },
  {
   "cell_type": "markdown",
   "id": "a4fc1dcb",
   "metadata": {},
   "source": [
    "## 선형 계획법을 통해 추천알고리즘 작성....?\n",
    "### 선형 계획법을 사용하려면 가입시 선호 분류를 선택하게 하는게 좋음 ex) 국, 밥, 찌개 등 랜덤예시 중 선택\n",
    "### 위 선택 분류를 추가 테이블을 통해 가중치를 부여하여 음식 리스트 중 최적화된 예시를 추천함"
   ]
  },
  {
   "cell_type": "code",
   "execution_count": 100,
   "id": "dcdc56af",
   "metadata": {},
   "outputs": [],
   "source": [
    "def getBMR(age,stat,weight,sex,acti):\n",
    "    bmr = (10*weight) + (6.25*stat) - (5*age)\n",
    "    if sex==0:\n",
    "        bmr = bmr + 5\n",
    "    else:\n",
    "        bmr = bmr -161\n",
    "    \n",
    "    if acti ==1:\n",
    "        return bmr * 1.2\n",
    "    elif acti ==2:\n",
    "        return bmr * 1.375\n",
    "    elif acti ==3:\n",
    "        return bmr * 1.55\n",
    "    elif acti ==4:\n",
    "        return bmr * 1.725\n",
    "    elif acti ==5:\n",
    "        return bmr * 1.9"
   ]
  },
  {
   "cell_type": "code",
   "execution_count": null,
   "id": "90819813",
   "metadata": {},
   "outputs": [],
   "source": [
    "# eatLeft 는 남긴 음식 비율로 계산 0.1 = 10% 형식\n",
    "def getEatNutr(foodName, eatLeft):\n",
    "    EatNutr = []\n",
    "    food = df[df['식품명']==foodName].values[0][3:]\n",
    "    food[3:]*eatLeft\n",
    "    EatNutr = food[3:]"
   ]
  },
  {
   "cell_type": "code",
   "execution_count": null,
   "id": "74cce137",
   "metadata": {},
   "outputs": [],
   "source": [
    "# 총에너지량 - 먹은양 에서 남은 에너지를 남은 끼니수 만큼 나눠서 추천?\n",
    "# 사용자의 식사 타입(고탄수, 고단백) 등을 고려하여 식단 편성 할까? 아니면 권장 섭취?\n",
    "def food_sug(bmr,food_remain,eat_meal_count,user_type):\n",
    "    remain_e = bmr - food_remain\n",
    "    "
   ]
  }
 ],
 "metadata": {
  "kernelspec": {
   "display_name": "Python 3 (ipykernel)",
   "language": "python",
   "name": "python3"
  },
  "language_info": {
   "codemirror_mode": {
    "name": "ipython",
    "version": 3
   },
   "file_extension": ".py",
   "mimetype": "text/x-python",
   "name": "python",
   "nbconvert_exporter": "python",
   "pygments_lexer": "ipython3",
   "version": "3.8.12"
  }
 },
 "nbformat": 4,
 "nbformat_minor": 5
}
